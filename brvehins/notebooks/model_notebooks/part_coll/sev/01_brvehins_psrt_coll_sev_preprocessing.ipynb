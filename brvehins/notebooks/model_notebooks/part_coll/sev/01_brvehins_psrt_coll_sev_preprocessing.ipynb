{
 "cells": [
  {
   "cell_type": "code",
   "execution_count": 1,
   "metadata": {},
   "outputs": [],
   "source": [
    "import h2o\n",
    "import numpy as np\n",
    "import pandas as pd\n",
    "import matplotlib.pyplot as plt\n",
    "\n",
    "from pathlib import Path\n",
    "from sklearn.model_selection import train_test_split\n",
    "\n",
    "pd.set_option(\"display.max_column\", None)\n"
   ]
  },
  {
   "cell_type": "code",
   "execution_count": 2,
   "metadata": {},
   "outputs": [
    {
     "data": {
      "text/plain": [
       "WindowsPath('d:/brvehins')"
      ]
     },
     "execution_count": 2,
     "metadata": {},
     "output_type": "execute_result"
    }
   ],
   "source": [
    "project_root = Path().cwd().parent.parent.parent.parent\n",
    "project_root"
   ]
  },
  {
   "cell_type": "code",
   "execution_count": 3,
   "metadata": {},
   "outputs": [
    {
     "data": {
      "text/plain": [
       "WindowsPath('d:/brvehins/data')"
      ]
     },
     "execution_count": 3,
     "metadata": {},
     "output_type": "execute_result"
    }
   ],
   "source": [
    "data_dir = project_root / \"data\"\n",
    "data_dir"
   ]
  },
  {
   "cell_type": "code",
   "execution_count": 4,
   "metadata": {},
   "outputs": [
    {
     "name": "stdout",
     "output_type": "stream",
     "text": [
      "Checking whether there is an H2O instance running at http://localhost:54321..... not found.\n",
      "Attempting to start a local H2O server...\n",
      "; OpenJDK 64-Bit Server VM Zulu23.32+11-CA (build 23.0.2+7, mixed mode, sharing)\n",
      "  Starting server from D:\\conda\\envs\\brvehins_separate_env\\Lib\\site-packages\\h2o\\backend\\bin\\h2o.jar\n",
      "  Ice root: C:\\Users\\S-A301~1\\AppData\\Local\\Temp\\tmp1vk6jq79\n",
      "  JVM stdout: C:\\Users\\S-A301~1\\AppData\\Local\\Temp\\tmp1vk6jq79\\h2o_s_A301_22_started_from_python.out\n",
      "  JVM stderr: C:\\Users\\S-A301~1\\AppData\\Local\\Temp\\tmp1vk6jq79\\h2o_s_A301_22_started_from_python.err\n",
      "  Server is running at http://127.0.0.1:54321\n",
      "Connecting to H2O server at http://127.0.0.1:54321 ... successful.\n",
      "Warning: Your H2O cluster version is (5 months and 13 days) old.  There may be a newer version available.\n",
      "Please download and install the latest version from: https://h2o-release.s3.amazonaws.com/h2o/latest_stable.html\n"
     ]
    },
    {
     "data": {
      "text/html": [
       "\n",
       "<style>\n",
       "\n",
       "#h2o-table-1.h2o-container {\n",
       "  overflow-x: auto;\n",
       "}\n",
       "#h2o-table-1 .h2o-table {\n",
       "  /* width: 100%; */\n",
       "  margin-top: 1em;\n",
       "  margin-bottom: 1em;\n",
       "}\n",
       "#h2o-table-1 .h2o-table caption {\n",
       "  white-space: nowrap;\n",
       "  caption-side: top;\n",
       "  text-align: left;\n",
       "  /* margin-left: 1em; */\n",
       "  margin: 0;\n",
       "  font-size: larger;\n",
       "}\n",
       "#h2o-table-1 .h2o-table thead {\n",
       "  white-space: nowrap; \n",
       "  position: sticky;\n",
       "  top: 0;\n",
       "  box-shadow: 0 -1px inset;\n",
       "}\n",
       "#h2o-table-1 .h2o-table tbody {\n",
       "  overflow: auto;\n",
       "}\n",
       "#h2o-table-1 .h2o-table th,\n",
       "#h2o-table-1 .h2o-table td {\n",
       "  text-align: right;\n",
       "  /* border: 1px solid; */\n",
       "}\n",
       "#h2o-table-1 .h2o-table tr:nth-child(even) {\n",
       "  /* background: #F5F5F5 */\n",
       "}\n",
       "\n",
       "</style>      \n",
       "<div id=\"h2o-table-1\" class=\"h2o-container\">\n",
       "  <table class=\"h2o-table\">\n",
       "    <caption></caption>\n",
       "    <thead></thead>\n",
       "    <tbody><tr><td>H2O_cluster_uptime:</td>\n",
       "<td>12 secs</td></tr>\n",
       "<tr><td>H2O_cluster_timezone:</td>\n",
       "<td>Europe/Warsaw</td></tr>\n",
       "<tr><td>H2O_data_parsing_timezone:</td>\n",
       "<td>UTC</td></tr>\n",
       "<tr><td>H2O_cluster_version:</td>\n",
       "<td>3.46.0.6</td></tr>\n",
       "<tr><td>H2O_cluster_version_age:</td>\n",
       "<td>5 months and 13 days</td></tr>\n",
       "<tr><td>H2O_cluster_name:</td>\n",
       "<td>H2O_from_python_s_A301_22_gewe6e</td></tr>\n",
       "<tr><td>H2O_cluster_total_nodes:</td>\n",
       "<td>1</td></tr>\n",
       "<tr><td>H2O_cluster_free_memory:</td>\n",
       "<td>15.98 Gb</td></tr>\n",
       "<tr><td>H2O_cluster_total_cores:</td>\n",
       "<td>4</td></tr>\n",
       "<tr><td>H2O_cluster_allowed_cores:</td>\n",
       "<td>4</td></tr>\n",
       "<tr><td>H2O_cluster_status:</td>\n",
       "<td>locked, healthy</td></tr>\n",
       "<tr><td>H2O_connection_url:</td>\n",
       "<td>http://127.0.0.1:54321</td></tr>\n",
       "<tr><td>H2O_connection_proxy:</td>\n",
       "<td>{\"http\": null, \"https\": null}</td></tr>\n",
       "<tr><td>H2O_internal_security:</td>\n",
       "<td>False</td></tr>\n",
       "<tr><td>Python_version:</td>\n",
       "<td>3.13.1 final</td></tr></tbody>\n",
       "  </table>\n",
       "</div>\n"
      ],
      "text/plain": [
       "--------------------------  --------------------------------\n",
       "H2O_cluster_uptime:         12 secs\n",
       "H2O_cluster_timezone:       Europe/Warsaw\n",
       "H2O_data_parsing_timezone:  UTC\n",
       "H2O_cluster_version:        3.46.0.6\n",
       "H2O_cluster_version_age:    5 months and 13 days\n",
       "H2O_cluster_name:           H2O_from_python_s_A301_22_gewe6e\n",
       "H2O_cluster_total_nodes:    1\n",
       "H2O_cluster_free_memory:    15.98 Gb\n",
       "H2O_cluster_total_cores:    4\n",
       "H2O_cluster_allowed_cores:  4\n",
       "H2O_cluster_status:         locked, healthy\n",
       "H2O_connection_url:         http://127.0.0.1:54321\n",
       "H2O_connection_proxy:       {\"http\": null, \"https\": null}\n",
       "H2O_internal_security:      False\n",
       "Python_version:             3.13.1 final\n",
       "--------------------------  --------------------------------"
      ]
     },
     "metadata": {},
     "output_type": "display_data"
    }
   ],
   "source": [
    "h2o.init(max_mem_size=\"16G\")"
   ]
  },
  {
   "cell_type": "code",
   "execution_count": 5,
   "metadata": {},
   "outputs": [
    {
     "data": {
      "text/plain": [
       "WindowsPath('d:/brvehins/data/brvehins1.parquet')"
      ]
     },
     "execution_count": 5,
     "metadata": {},
     "output_type": "execute_result"
    }
   ],
   "source": [
    "preprocessed_file_name = data_dir / \"brvehins1.parquet\"\n",
    "preprocessed_file_name"
   ]
  },
  {
   "cell_type": "code",
   "execution_count": 6,
   "metadata": {},
   "outputs": [
    {
     "name": "stdout",
     "output_type": "stream",
     "text": [
      "Parse progress: |████████████████████████████████████████████████████████████████| (done) 100%\n"
     ]
    }
   ],
   "source": [
    "input_df = h2o.import_file(str(preprocessed_file_name))"
   ]
  },
  {
   "cell_type": "code",
   "execution_count": 7,
   "metadata": {},
   "outputs": [
    {
     "name": "stdout",
     "output_type": "stream",
     "text": [
      "Input data shape: [1824675, 37]\n"
     ]
    }
   ],
   "source": [
    "print(f\"Input data shape: {input_df.dim}\")"
   ]
  },
  {
   "cell_type": "code",
   "execution_count": 8,
   "metadata": {},
   "outputs": [
    {
     "data": {
      "text/html": [
       "<pre style='margin: 1em 0 1em 0;'>Rows:1824675\n",
       "Cols:37\n",
       "</pre>"
      ],
      "text/plain": [
       "Rows:1824675\n",
       "Cols:37\n"
      ]
     },
     "metadata": {},
     "output_type": "display_data"
    },
    {
     "data": {
      "text/html": [
       "<table class='dataframe'>\n",
       "<thead>\n",
       "<tr><th>       </th><th>Gender   </th><th>DrivAge  </th><th>VehYear           </th><th>VehModel                                                  </th><th>VehGroup                      </th><th>Area                                    </th><th>State             </th><th>StateAb  </th><th>ExposTotal           </th><th>PremTotal             </th><th>SumInsAvg         </th><th>ClaimNbRob          </th><th>ClaimNbPartColl    </th><th>ClaimNbTotColl      </th><th>ClaimNbFire          </th><th>ClaimNbOther       </th><th>ClaimAmountRob   </th><th>ClaimAmountPartColl  </th><th>ClaimAmountTotColl  </th><th>ClaimAmountFire   </th><th>ClaimAmountOther  </th><th>FreqRob             </th><th>SevRob            </th><th>PPRob            </th><th>FreqPartColl       </th><th>SevPartColl      </th><th>PPPartColl        </th><th>FreqTotColl         </th><th>SevTotColl       </th><th>PPTotColl        </th><th>FreqFire            </th><th>SevFire           </th><th>PPFire           </th><th>FreqOther          </th><th>SevOther         </th><th>PPOther           </th><th>Fold              </th></tr>\n",
       "</thead>\n",
       "<tbody>\n",
       "<tr><td>type   </td><td>enum     </td><td>enum     </td><td>int               </td><td>enum                                                      </td><td>enum                          </td><td>enum                                    </td><td>enum              </td><td>enum     </td><td>real                 </td><td>real                  </td><td>real              </td><td>int                 </td><td>int                </td><td>int                 </td><td>int                  </td><td>int                </td><td>int              </td><td>int                  </td><td>int                 </td><td>int               </td><td>int               </td><td>real                </td><td>real              </td><td>real             </td><td>real               </td><td>real             </td><td>real              </td><td>real                </td><td>real             </td><td>real             </td><td>real                </td><td>real              </td><td>real             </td><td>real               </td><td>real             </td><td>real              </td><td>int               </td></tr>\n",
       "<tr><td>mins   </td><td>         </td><td>         </td><td>1947.0            </td><td>                                                          </td><td>                              </td><td>                                        </td><td>                  </td><td>         </td><td>0.0027397261001169703</td><td>1.7053025658242404e-13</td><td>0.38              </td><td>0.0                 </td><td>0.0                </td><td>0.0                 </td><td>0.0                  </td><td>0.0                </td><td>0.0              </td><td>0.0                  </td><td>0.0                 </td><td>0.0               </td><td>0.0               </td><td>0.0                 </td><td>0.0               </td><td>0.0              </td><td>0.0                </td><td>0.0              </td><td>0.0               </td><td>0.0                 </td><td>0.0              </td><td>0.0              </td><td>0.0                 </td><td>0.0               </td><td>0.0              </td><td>0.0                </td><td>0.0              </td><td>0.0               </td><td>1.0               </td></tr>\n",
       "<tr><td>mean   </td><td>         </td><td>         </td><td>2005.5896282899573</td><td>                                                          </td><td>                              </td><td>                                        </td><td>                  </td><td>         </td><td>3.407280206514535    </td><td>4011.4781949726994    </td><td>42452.01881185921 </td><td>0.027500239768725947</td><td>0.21718497814679327</td><td>0.017090714784824716</td><td>0.0007310890980585577</td><td>0.49757354049351354</td><td>681.3775242166431</td><td>777.4399961636943    </td><td>543.8431348048289   </td><td>14.223913847671511</td><td>128.78447833175778</td><td>0.019887222000748883</td><td>493.25462225702387</td><td>590.8481413019481</td><td>0.12379198744814413</td><td>411.6531216392492</td><td>560.7330900194224 </td><td>0.020461830680235632</td><td>488.6686740214017</td><td>730.9797444071476</td><td>0.000573051095095401</td><td>13.765382739391955</td><td>31.93757251449335</td><td>0.15351673966997867</td><td>47.99985162454717</td><td>108.77103516693442</td><td>3.599999999999894 </td></tr>\n",
       "<tr><td>maxs   </td><td>         </td><td>         </td><td>2012.0            </td><td>                                                          </td><td>                              </td><td>                                        </td><td>                  </td><td>         </td><td>8078.440000000001    </td><td>6478755.129999999     </td><td>1307269.9399999997</td><td>164.0               </td><td>1617.0             </td><td>66.0                </td><td>6.0                  </td><td>1278.0             </td><td>4421765.0        </td><td>2289213.0            </td><td>2201873.0           </td><td>233433.0          </td><td>967914.0          </td><td>1094.9999709357508  </td><td>370496.0          </td><td>23051939.38813943</td><td>5474.999854678754  </td><td>622483.0         </td><td>24583114.34749792 </td><td>729.999980623834    </td><td>366976.0         </td><td>27480849.27058422</td><td>182.4999951559585   </td><td>233433.0          </td><td>34331534.0887486 </td><td>6934.999815926422  </td><td>387741.0         </td><td>30331499.194920298</td><td>6.0               </td></tr>\n",
       "<tr><td>sigma  </td><td>         </td><td>         </td><td>4.806124228609021 </td><td>                                                          </td><td>                              </td><td>                                        </td><td>                  </td><td>         </td><td>16.520357463579103   </td><td>18858.924376495976    </td><td>38521.653537778555</td><td>0.3128209841613047  </td><td>2.5466160757764817 </td><td>0.16008966839468347 </td><td>0.028547392962383348 </td><td>5.1962097989448015 </td><td>8922.751036592452</td><td>6246.836366930708    </td><td>6208.476440008254   </td><td>859.3823035432882 </td><td>2327.048585469259 </td><td>1.5477521427086254  </td><td>4724.0184033844735</td><td>39164.5249426387 </td><td>6.200259183527831  </td><td>2620.318285074021</td><td>31341.203107649577</td><td>1.5361622210973624  </td><td>4822.318163327112</td><td>54204.10717354922</td><td>0.14872904209433221 </td><td>832.3194367794416 </td><td>25529.4003187045 </td><td>6.592669006589075  </td><td>1055.431001988129</td><td>23636.262903919433</td><td>1.7435600551890866</td></tr>\n",
       "<tr><td>zeros  </td><td>         </td><td>         </td><td>0                 </td><td>                                                          </td><td>                              </td><td>                                        </td><td>                  </td><td>         </td><td>0                    </td><td>0                     </td><td>0                 </td><td>1789447             </td><td>1636860            </td><td>1796723             </td><td>1823403              </td><td>1656664            </td><td>1789447          </td><td>1636860              </td><td>1796723             </td><td>1823403           </td><td>1656664           </td><td>1789447             </td><td>1789447           </td><td>1789447          </td><td>1636860            </td><td>1636860          </td><td>1636860           </td><td>1796723             </td><td>1796723          </td><td>1796723          </td><td>1823403             </td><td>1823403           </td><td>1823403          </td><td>1656664            </td><td>1656664          </td><td>1656664           </td><td>0                 </td></tr>\n",
       "<tr><td>missing</td><td>0        </td><td>0        </td><td>0                 </td><td>0                                                         </td><td>0                             </td><td>0                                       </td><td>0                 </td><td>0        </td><td>0                    </td><td>0                     </td><td>0                 </td><td>0                   </td><td>0                  </td><td>0                   </td><td>0                    </td><td>0                  </td><td>0                </td><td>0                    </td><td>0                   </td><td>0                 </td><td>0                 </td><td>0                   </td><td>0                 </td><td>0                </td><td>0                  </td><td>0                </td><td>0                 </td><td>0                   </td><td>0                </td><td>0                </td><td>0                   </td><td>0                 </td><td>0                </td><td>0                  </td><td>0                </td><td>0                 </td><td>0                 </td></tr>\n",
       "<tr><td>0      </td><td>Female   </td><td>&gt;55      </td><td>1997.0            </td><td>Gm - Chevrolet - Kadett Gl 2.0 Mpfi / Efi                 </td><td>Gm Chevrolet Kadett           </td><td>Interior                                </td><td>Rio de Janeiro    </td><td>RJ       </td><td>1.01                 </td><td>742.75                </td><td>10852.99          </td><td>0.0                 </td><td>0.0                </td><td>0.0                 </td><td>0.0                  </td><td>0.0                </td><td>0.0              </td><td>0.0                  </td><td>0.0                 </td><td>0.0               </td><td>0.0               </td><td>0.0                 </td><td>0.0               </td><td>0.0              </td><td>0.0                </td><td>0.0              </td><td>0.0               </td><td>0.0                 </td><td>0.0              </td><td>0.0              </td><td>0.0                 </td><td>0.0               </td><td>0.0              </td><td>0.0                </td><td>0.0              </td><td>0.0               </td><td>2.0               </td></tr>\n",
       "<tr><td>1      </td><td>Female   </td><td>36-45    </td><td>2010.0            </td><td>Gm - Chevrolet - Montana 1.4 8v Conquest Econoflex  2p    </td><td>Gm Chevrolet Montana          </td><td>Maranhao                                </td><td>Maranhao          </td><td>MA       </td><td>3.0                  </td><td>5025.68               </td><td>31009.73          </td><td>0.0                 </td><td>0.0                </td><td>0.0                 </td><td>0.0                  </td><td>0.0                </td><td>0.0              </td><td>0.0                  </td><td>0.0                 </td><td>0.0               </td><td>0.0               </td><td>0.0                 </td><td>0.0               </td><td>0.0              </td><td>0.0                </td><td>0.0              </td><td>0.0               </td><td>0.0                 </td><td>0.0              </td><td>0.0              </td><td>0.0                 </td><td>0.0               </td><td>0.0              </td><td>0.0                </td><td>0.0              </td><td>0.0               </td><td>5.0               </td></tr>\n",
       "<tr><td>2      </td><td>Female   </td><td>18-25    </td><td>2008.0            </td><td>Vw - Volkswagen - Fox City 1.0mi/ 1.0mi Total Flex 8v 3p  </td><td>Vw Volkswagen Fox 1.0         </td><td>Mato Grosso do Sul                      </td><td>Mato Grosso do Sul</td><td>MS       </td><td>1.01                 </td><td>916.2599999999998     </td><td>24977.180000000004</td><td>0.0                 </td><td>0.0                </td><td>0.0                 </td><td>0.0                  </td><td>0.0                </td><td>0.0              </td><td>0.0                  </td><td>0.0                 </td><td>0.0               </td><td>0.0               </td><td>0.0                 </td><td>0.0               </td><td>0.0              </td><td>0.0                </td><td>0.0              </td><td>0.0               </td><td>0.0                 </td><td>0.0              </td><td>0.0              </td><td>0.0                 </td><td>0.0               </td><td>0.0              </td><td>0.0                </td><td>0.0              </td><td>0.0               </td><td>2.0               </td></tr>\n",
       "<tr><td>3      </td><td>Male     </td><td>&gt;55      </td><td>2004.0            </td><td>Harley-davidson - Fat Boy                                 </td><td>Harley-davidson Motos - Todas </td><td>Met. Porto Alegre e Caxias do Sul       </td><td>Rio Grande do Sul </td><td>RS       </td><td>1.45                 </td><td>1601.68               </td><td>35932.66          </td><td>0.0                 </td><td>0.0                </td><td>0.0                 </td><td>0.0                  </td><td>0.0                </td><td>0.0              </td><td>0.0                  </td><td>0.0                 </td><td>0.0               </td><td>0.0               </td><td>0.0                 </td><td>0.0               </td><td>0.0              </td><td>0.0                </td><td>0.0              </td><td>0.0               </td><td>0.0                 </td><td>0.0              </td><td>0.0              </td><td>0.0                 </td><td>0.0               </td><td>0.0              </td><td>0.0                </td><td>0.0              </td><td>0.0               </td><td>6.0               </td></tr>\n",
       "<tr><td>4      </td><td>Male     </td><td>36-45    </td><td>2009.0            </td><td>Volvo - Fh 440 6x2 2p (diesel)                            </td><td>Volvo Caminhoes - Todos       </td><td>Ribeirao Preto e Demais Mun. de Campinas</td><td>Sao Paulo         </td><td>SP       </td><td>4.55                 </td><td>53031.35              </td><td>301889.74         </td><td>0.0                 </td><td>1.0                </td><td>0.0                 </td><td>0.0                  </td><td>0.0                </td><td>0.0              </td><td>648.0                </td><td>0.0                 </td><td>0.0               </td><td>0.0               </td><td>0.0                 </td><td>0.0               </td><td>0.0              </td><td>0.21978021978021972</td><td>648.0            </td><td>142.41758241758245</td><td>0.0                 </td><td>0.0              </td><td>0.0              </td><td>0.0                 </td><td>0.0               </td><td>0.0              </td><td>0.0                </td><td>0.0              </td><td>0.0               </td><td>5.0               </td></tr>\n",
       "<tr><td>5      </td><td>Male     </td><td>26-35    </td><td>1998.0            </td><td>Vw - Volkswagen - Gol Gl 1.6 Mi/star 1.6 E 1.8/atlanta 1.6</td><td>Vw Volkswagen Gol Acima De 1.0</td><td>Met. Porto Alegre e Caxias do Sul       </td><td>Rio Grande do Sul </td><td>RS       </td><td>1.0                  </td><td>660.59                </td><td>13574.0           </td><td>0.0                 </td><td>1.0                </td><td>0.0                 </td><td>0.0                  </td><td>2.0                </td><td>0.0              </td><td>2773.0               </td><td>0.0                 </td><td>0.0               </td><td>120.0             </td><td>0.0                 </td><td>0.0               </td><td>0.0              </td><td>1.0                </td><td>2773.0           </td><td>2773.0            </td><td>0.0                 </td><td>0.0              </td><td>0.0              </td><td>0.0                 </td><td>0.0               </td><td>0.0              </td><td>2.0                </td><td>60.0             </td><td>120.0             </td><td>3.0               </td></tr>\n",
       "<tr><td>6      </td><td>Male     </td><td>18-25    </td><td>1999.0            </td><td>Gm - Chevrolet - Corsa Sedan Super 1.0 Mpfi 4p            </td><td>Gm Chevrolet Corsa 1.0        </td><td>Grande Campinas                         </td><td>Sao Paulo         </td><td>SP       </td><td>1.01                 </td><td>959.55                </td><td>14043.630000000003</td><td>0.0                 </td><td>0.0                </td><td>0.0                 </td><td>0.0                  </td><td>0.0                </td><td>0.0              </td><td>0.0                  </td><td>0.0                 </td><td>0.0               </td><td>0.0               </td><td>0.0                 </td><td>0.0               </td><td>0.0              </td><td>0.0                </td><td>0.0              </td><td>0.0               </td><td>0.0                 </td><td>0.0              </td><td>0.0              </td><td>0.0                 </td><td>0.0               </td><td>0.0              </td><td>0.0                </td><td>0.0              </td><td>0.0               </td><td>3.0               </td></tr>\n",
       "<tr><td>7      </td><td>Corporate</td><td>nan      </td><td>2006.0            </td><td>Honda - Cg 150 Titan-esd/ Titan Special Edition           </td><td>Honda Motos Ate 450cc         </td><td>Vale do Paraiba e Ribeira               </td><td>Sao Paulo         </td><td>SP       </td><td>1.51                 </td><td>981.8300000000002     </td><td>4929.810000000001 </td><td>0.0                 </td><td>0.0                </td><td>0.0                 </td><td>0.0                  </td><td>0.0                </td><td>0.0              </td><td>0.0                  </td><td>0.0                 </td><td>0.0               </td><td>0.0               </td><td>0.0                 </td><td>0.0               </td><td>0.0              </td><td>0.0                </td><td>0.0              </td><td>0.0               </td><td>0.0                 </td><td>0.0              </td><td>0.0              </td><td>0.0                 </td><td>0.0               </td><td>0.0              </td><td>0.0                </td><td>0.0              </td><td>0.0               </td><td>2.0               </td></tr>\n",
       "<tr><td>8      </td><td>Female   </td><td>26-35    </td><td>2002.0            </td><td>Fiat - Uno Mille 1.0 Fire/ F.flex/ Economy 4p             </td><td>Fiat Uno 1.0                  </td><td>Demais regioes                          </td><td>Rio Grande do Sul </td><td>RS       </td><td>0.93                 </td><td>589.07                </td><td>13976.55          </td><td>0.0                 </td><td>0.0                </td><td>0.0                 </td><td>0.0                  </td><td>0.0                </td><td>0.0              </td><td>0.0                  </td><td>0.0                 </td><td>0.0               </td><td>0.0               </td><td>0.0                 </td><td>0.0               </td><td>0.0              </td><td>0.0                </td><td>0.0              </td><td>0.0               </td><td>0.0                 </td><td>0.0              </td><td>0.0              </td><td>0.0                 </td><td>0.0               </td><td>0.0              </td><td>0.0                </td><td>0.0              </td><td>0.0               </td><td>3.0               </td></tr>\n",
       "<tr><td>9      </td><td>Male     </td><td>26-35    </td><td>2010.0            </td><td>Vw - Volkswagen - Gol City (trend) 1.0 Mi Total Flex 8v 4p</td><td>Vw Volkswagen Gol 1.0         </td><td>Maranhao                                </td><td>Maranhao          </td><td>MA       </td><td>10.42                </td><td>12908.31              </td><td>26540.060000000005</td><td>0.0                 </td><td>1.0                </td><td>0.0                 </td><td>0.0                  </td><td>2.0                </td><td>0.0              </td><td>1512.0               </td><td>0.0                 </td><td>0.0               </td><td>320.0             </td><td>0.0                 </td><td>0.0               </td><td>0.0              </td><td>0.09596928982725528</td><td>1512.0           </td><td>145.10556621880997</td><td>0.0                 </td><td>0.0              </td><td>0.0              </td><td>0.0                 </td><td>0.0               </td><td>0.0              </td><td>0.19193857965451055</td><td>160.0            </td><td>30.71017274472169 </td><td>2.0               </td></tr>\n",
       "</tbody>\n",
       "</table><pre style='font-size: smaller; margin-bottom: 1em;'>[1824675 rows x 37 columns]</pre>"
      ],
      "text/plain": [
       "         Gender     DrivAge    VehYear             VehModel                                                    VehGroup                        Area                                      State               StateAb    ExposTotal             PremTotal               SumInsAvg           ClaimNbRob            ClaimNbPartColl      ClaimNbTotColl        ClaimNbFire            ClaimNbOther         ClaimAmountRob     ClaimAmountPartColl    ClaimAmountTotColl    ClaimAmountFire     ClaimAmountOther    FreqRob               SevRob              PPRob              FreqPartColl         SevPartColl        PPPartColl          FreqTotColl           SevTotColl         PPTotColl          FreqFire              SevFire             PPFire             FreqOther            SevOther           PPOther             Fold\n",
       "-------  ---------  ---------  ------------------  ----------------------------------------------------------  ------------------------------  ----------------------------------------  ------------------  ---------  ---------------------  ----------------------  ------------------  --------------------  -------------------  --------------------  ---------------------  -------------------  -----------------  ---------------------  --------------------  ------------------  ------------------  --------------------  ------------------  -----------------  -------------------  -----------------  ------------------  --------------------  -----------------  -----------------  --------------------  ------------------  -----------------  -------------------  -----------------  ------------------  ------------------\n",
       "type     enum       enum       int                 enum                                                        enum                            enum                                      enum                enum       real                   real                    real                int                   int                  int                   int                    int                  int                int                    int                   int                 int                 real                  real                real               real                 real               real                real                  real               real               real                  real                real               real                 real               real                int\n",
       "mins                           1947.0                                                                                                                                                                                   0.0027397261001169703  1.7053025658242404e-13  0.38                0.0                   0.0                  0.0                   0.0                    0.0                  0.0                0.0                    0.0                   0.0                 0.0                 0.0                   0.0                 0.0                0.0                  0.0                0.0                 0.0                   0.0                0.0                0.0                   0.0                 0.0                0.0                  0.0                0.0                 1.0\n",
       "mean                           2005.5896282899573                                                                                                                                                                       3.407280206514535      4011.4781949726994      42452.01881185921   0.027500239768725947  0.21718497814679327  0.017090714784824716  0.0007310890980585577  0.49757354049351354  681.3775242166431  777.4399961636943      543.8431348048289     14.223913847671511  128.78447833175778  0.019887222000748883  493.25462225702387  590.8481413019481  0.12379198744814413  411.6531216392492  560.7330900194224   0.020461830680235632  488.6686740214017  730.9797444071476  0.000573051095095401  13.765382739391955  31.93757251449335  0.15351673966997867  47.99985162454717  108.77103516693442  3.599999999999894\n",
       "maxs                           2012.0                                                                                                                                                                                   8078.440000000001      6478755.129999999       1307269.9399999997  164.0                 1617.0               66.0                  6.0                    1278.0               4421765.0          2289213.0              2201873.0             233433.0            967914.0            1094.9999709357508    370496.0            23051939.38813943  5474.999854678754    622483.0           24583114.34749792   729.999980623834      366976.0           27480849.27058422  182.4999951559585     233433.0            34331534.0887486   6934.999815926422    387741.0           30331499.194920298  6.0\n",
       "sigma                          4.806124228609021                                                                                                                                                                        16.520357463579103     18858.924376495976      38521.653537778555  0.3128209841613047    2.5466160757764817   0.16008966839468347   0.028547392962383348   5.1962097989448015   8922.751036592452  6246.836366930708      6208.476440008254     859.3823035432882   2327.048585469259   1.5477521427086254    4724.0184033844735  39164.5249426387   6.200259183527831    2620.318285074021  31341.203107649577  1.5361622210973624    4822.318163327112  54204.10717354922  0.14872904209433221   832.3194367794416   25529.4003187045   6.592669006589075    1055.431001988129  23636.262903919433  1.7435600551890866\n",
       "zeros                          0                                                                                                                                                                                        0                      0                       0                   1789447               1636860              1796723               1823403                1656664              1789447            1636860                1796723               1823403             1656664             1789447               1789447             1789447            1636860              1636860            1636860             1796723               1796723            1796723            1823403               1823403             1823403            1656664              1656664            1656664             0\n",
       "missing  0          0          0                   0                                                           0                               0                                         0                   0          0                      0                       0                   0                     0                    0                     0                      0                    0                  0                      0                     0                   0                   0                     0                   0                  0                    0                  0                   0                     0                  0                  0                     0                   0                  0                    0                  0                   0\n",
       "0        Female     >55        1997.0              Gm - Chevrolet - Kadett Gl 2.0 Mpfi / Efi                   Gm Chevrolet Kadett             Interior                                  Rio de Janeiro      RJ         1.01                   742.75                  10852.99            0.0                   0.0                  0.0                   0.0                    0.0                  0.0                0.0                    0.0                   0.0                 0.0                 0.0                   0.0                 0.0                0.0                  0.0                0.0                 0.0                   0.0                0.0                0.0                   0.0                 0.0                0.0                  0.0                0.0                 2.0\n",
       "1        Female     36-45      2010.0              Gm - Chevrolet - Montana 1.4 8v Conquest Econoflex  2p      Gm Chevrolet Montana            Maranhao                                  Maranhao            MA         3.0                    5025.68                 31009.73            0.0                   0.0                  0.0                   0.0                    0.0                  0.0                0.0                    0.0                   0.0                 0.0                 0.0                   0.0                 0.0                0.0                  0.0                0.0                 0.0                   0.0                0.0                0.0                   0.0                 0.0                0.0                  0.0                0.0                 5.0\n",
       "2        Female     18-25      2008.0              Vw - Volkswagen - Fox City 1.0mi/ 1.0mi Total Flex 8v 3p    Vw Volkswagen Fox 1.0           Mato Grosso do Sul                        Mato Grosso do Sul  MS         1.01                   916.2599999999998       24977.180000000004  0.0                   0.0                  0.0                   0.0                    0.0                  0.0                0.0                    0.0                   0.0                 0.0                 0.0                   0.0                 0.0                0.0                  0.0                0.0                 0.0                   0.0                0.0                0.0                   0.0                 0.0                0.0                  0.0                0.0                 2.0\n",
       "3        Male       >55        2004.0              Harley-davidson - Fat Boy                                   Harley-davidson Motos - Todas   Met. Porto Alegre e Caxias do Sul         Rio Grande do Sul   RS         1.45                   1601.68                 35932.66            0.0                   0.0                  0.0                   0.0                    0.0                  0.0                0.0                    0.0                   0.0                 0.0                 0.0                   0.0                 0.0                0.0                  0.0                0.0                 0.0                   0.0                0.0                0.0                   0.0                 0.0                0.0                  0.0                0.0                 6.0\n",
       "4        Male       36-45      2009.0              Volvo - Fh 440 6x2 2p (diesel)                              Volvo Caminhoes - Todos         Ribeirao Preto e Demais Mun. de Campinas  Sao Paulo           SP         4.55                   53031.35                301889.74           0.0                   1.0                  0.0                   0.0                    0.0                  0.0                648.0                  0.0                   0.0                 0.0                 0.0                   0.0                 0.0                0.21978021978021972  648.0              142.41758241758245  0.0                   0.0                0.0                0.0                   0.0                 0.0                0.0                  0.0                0.0                 5.0\n",
       "5        Male       26-35      1998.0              Vw - Volkswagen - Gol Gl 1.6 Mi/star 1.6 E 1.8/atlanta 1.6  Vw Volkswagen Gol Acima De 1.0  Met. Porto Alegre e Caxias do Sul         Rio Grande do Sul   RS         1.0                    660.59                  13574.0             0.0                   1.0                  0.0                   0.0                    2.0                  0.0                2773.0                 0.0                   0.0                 120.0               0.0                   0.0                 0.0                1.0                  2773.0             2773.0              0.0                   0.0                0.0                0.0                   0.0                 0.0                2.0                  60.0               120.0               3.0\n",
       "6        Male       18-25      1999.0              Gm - Chevrolet - Corsa Sedan Super 1.0 Mpfi 4p              Gm Chevrolet Corsa 1.0          Grande Campinas                           Sao Paulo           SP         1.01                   959.55                  14043.630000000003  0.0                   0.0                  0.0                   0.0                    0.0                  0.0                0.0                    0.0                   0.0                 0.0                 0.0                   0.0                 0.0                0.0                  0.0                0.0                 0.0                   0.0                0.0                0.0                   0.0                 0.0                0.0                  0.0                0.0                 3.0\n",
       "7        Corporate  nan        2006.0              Honda - Cg 150 Titan-esd/ Titan Special Edition             Honda Motos Ate 450cc           Vale do Paraiba e Ribeira                 Sao Paulo           SP         1.51                   981.8300000000002       4929.810000000001   0.0                   0.0                  0.0                   0.0                    0.0                  0.0                0.0                    0.0                   0.0                 0.0                 0.0                   0.0                 0.0                0.0                  0.0                0.0                 0.0                   0.0                0.0                0.0                   0.0                 0.0                0.0                  0.0                0.0                 2.0\n",
       "8        Female     26-35      2002.0              Fiat - Uno Mille 1.0 Fire/ F.flex/ Economy 4p               Fiat Uno 1.0                    Demais regioes                            Rio Grande do Sul   RS         0.93                   589.07                  13976.55            0.0                   0.0                  0.0                   0.0                    0.0                  0.0                0.0                    0.0                   0.0                 0.0                 0.0                   0.0                 0.0                0.0                  0.0                0.0                 0.0                   0.0                0.0                0.0                   0.0                 0.0                0.0                  0.0                0.0                 3.0\n",
       "9        Male       26-35      2010.0              Vw - Volkswagen - Gol City (trend) 1.0 Mi Total Flex 8v 4p  Vw Volkswagen Gol 1.0           Maranhao                                  Maranhao            MA         10.42                  12908.31                26540.060000000005  0.0                   1.0                  0.0                   0.0                    2.0                  0.0                1512.0                 0.0                   0.0                 320.0               0.0                   0.0                 0.0                0.09596928982725528  1512.0             145.10556621880997  0.0                   0.0                0.0                0.0                   0.0                 0.0                0.19193857965451055  160.0              30.71017274472169   2.0\n",
       "[1824675 rows x 37 columns]\n"
      ]
     },
     "metadata": {},
     "output_type": "display_data"
    }
   ],
   "source": [
    "input_df.describe()"
   ]
  },
  {
   "cell_type": "code",
   "execution_count": 9,
   "metadata": {},
   "outputs": [
    {
     "data": {
      "text/plain": [
       "['Gender',\n",
       " 'DrivAge',\n",
       " 'VehYear',\n",
       " 'VehModel',\n",
       " 'VehGroup',\n",
       " 'Area',\n",
       " 'State',\n",
       " 'StateAb',\n",
       " 'ExposTotal',\n",
       " 'PremTotal',\n",
       " 'SumInsAvg',\n",
       " 'ClaimNbRob',\n",
       " 'ClaimNbPartColl',\n",
       " 'ClaimNbTotColl',\n",
       " 'ClaimNbFire',\n",
       " 'ClaimNbOther',\n",
       " 'ClaimAmountRob',\n",
       " 'ClaimAmountPartColl',\n",
       " 'ClaimAmountTotColl',\n",
       " 'ClaimAmountFire',\n",
       " 'ClaimAmountOther',\n",
       " 'FreqRob',\n",
       " 'SevRob',\n",
       " 'PPRob',\n",
       " 'FreqPartColl',\n",
       " 'SevPartColl',\n",
       " 'PPPartColl',\n",
       " 'FreqTotColl',\n",
       " 'SevTotColl',\n",
       " 'PPTotColl',\n",
       " 'FreqFire',\n",
       " 'SevFire',\n",
       " 'PPFire',\n",
       " 'FreqOther',\n",
       " 'SevOther',\n",
       " 'PPOther',\n",
       " 'Fold']"
      ]
     },
     "execution_count": 9,
     "metadata": {},
     "output_type": "execute_result"
    }
   ],
   "source": [
    "input_df.columns"
   ]
  },
  {
   "cell_type": "code",
   "execution_count": 11,
   "metadata": {},
   "outputs": [
    {
     "ename": "H2OValueError",
     "evalue": "Column(s) selected to drop are not in original frame: '__index_level_0__'",
     "output_type": "error",
     "traceback": [
      "\u001b[31m---------------------------------------------------------------------------\u001b[39m",
      "\u001b[31mH2OValueError\u001b[39m                             Traceback (most recent call last)",
      "\u001b[36mCell\u001b[39m\u001b[36m \u001b[39m\u001b[32mIn[11]\u001b[39m\u001b[32m, line 1\u001b[39m\n\u001b[32m----> \u001b[39m\u001b[32m1\u001b[39m input_df = \u001b[43minput_df\u001b[49m\u001b[43m.\u001b[49m\u001b[43mdrop\u001b[49m\u001b[43m(\u001b[49m\u001b[33;43m'\u001b[39;49m\u001b[33;43m__index_level_0__\u001b[39;49m\u001b[33;43m'\u001b[39;49m\u001b[43m,\u001b[49m\u001b[43m \u001b[49m\u001b[43maxis\u001b[49m\u001b[43m=\u001b[49m\u001b[32;43m1\u001b[39;49m\u001b[43m)\u001b[49m\n",
      "\u001b[36mFile \u001b[39m\u001b[32md:\\conda\\envs\\brvehins_separate_env\\Lib\\site-packages\\h2o\\frame.py:2335\u001b[39m, in \u001b[36mH2OFrame.drop\u001b[39m\u001b[34m(self, index, axis)\u001b[39m\n\u001b[32m   2332\u001b[39m \u001b[38;5;28;01mif\u001b[39;00m is_type(index, \u001b[38;5;28mstr\u001b[39m):\n\u001b[32m   2333\u001b[39m     \u001b[38;5;66;03m# Check if index is an actual column(s) in the frame\u001b[39;00m\n\u001b[32m   2334\u001b[39m     \u001b[38;5;28;01mif\u001b[39;00m index \u001b[38;5;129;01mnot\u001b[39;00m \u001b[38;5;129;01min\u001b[39;00m \u001b[38;5;28mself\u001b[39m.names:\n\u001b[32m-> \u001b[39m\u001b[32m2335\u001b[39m         \u001b[38;5;28;01mraise\u001b[39;00m H2OValueError(\u001b[33m\"\u001b[39m\u001b[33mColumn(s) selected to drop are not in original frame: \u001b[39m\u001b[38;5;132;01m%r\u001b[39;00m\u001b[33m\"\u001b[39m % index)\n\u001b[32m   2336\u001b[39m     index = \u001b[38;5;28mself\u001b[39m.names.index(index)\n\u001b[32m   2337\u001b[39m \u001b[38;5;66;03m# If input is an int indicating a column index, i.e., 3:\u001b[39;00m\n",
      "\u001b[31mH2OValueError\u001b[39m: Column(s) selected to drop are not in original frame: '__index_level_0__'"
     ]
    }
   ],
   "source": [
    "#input_df = input_df.drop('__index_level_0__', axis=1) to już usunięte"
   ]
  },
  {
   "cell_type": "code",
   "execution_count": 12,
   "metadata": {},
   "outputs": [
    {
     "data": {
      "text/plain": [
       "['Gender',\n",
       " 'DrivAge',\n",
       " 'VehYear',\n",
       " 'VehModel',\n",
       " 'VehGroup',\n",
       " 'Area',\n",
       " 'State',\n",
       " 'StateAb',\n",
       " 'ExposTotal',\n",
       " 'PremTotal',\n",
       " 'SumInsAvg',\n",
       " 'ClaimNbRob',\n",
       " 'ClaimNbPartColl',\n",
       " 'ClaimNbTotColl',\n",
       " 'ClaimNbFire',\n",
       " 'ClaimNbOther',\n",
       " 'ClaimAmountRob',\n",
       " 'ClaimAmountPartColl',\n",
       " 'ClaimAmountTotColl',\n",
       " 'ClaimAmountFire',\n",
       " 'ClaimAmountOther',\n",
       " 'FreqRob',\n",
       " 'SevRob',\n",
       " 'PPRob',\n",
       " 'FreqPartColl',\n",
       " 'SevPartColl',\n",
       " 'PPPartColl',\n",
       " 'FreqTotColl',\n",
       " 'SevTotColl',\n",
       " 'PPTotColl',\n",
       " 'FreqFire',\n",
       " 'SevFire',\n",
       " 'PPFire',\n",
       " 'FreqOther',\n",
       " 'SevOther',\n",
       " 'PPOther',\n",
       " 'Fold']"
      ]
     },
     "execution_count": 12,
     "metadata": {},
     "output_type": "execute_result"
    }
   ],
   "source": [
    "input_df.columns"
   ]
  },
  {
   "cell_type": "code",
   "execution_count": 13,
   "metadata": {},
   "outputs": [
    {
     "data": {
      "text/plain": [
       "0.0"
      ]
     },
     "execution_count": 13,
     "metadata": {},
     "output_type": "execute_result"
    }
   ],
   "source": [
    "# Recheck for missind values\n",
    "input_df.isna().sum()"
   ]
  },
  {
   "cell_type": "code",
   "execution_count": 14,
   "metadata": {},
   "outputs": [
    {
     "name": "stdout",
     "output_type": "stream",
     "text": [
      "Coverage: PartColl\n",
      "Model: sev\n",
      "Model numerator: ClaimAmountPartColl\n",
      "Model denominator: ClaimNbPartColl\n",
      "Model fraction: SevPartColl\n",
      "Response: SevPartColl\n"
     ]
    }
   ],
   "source": [
    "coverage = \"PartColl\" #manual input\n",
    "model = \"sev\" # manual inut - one of \"freq\", \"sev\", \"pp\"\n",
    "\n",
    "exposure = \"ExposTotal\"\n",
    "model_numerator = f\"ClaimNb{coverage}\" if model == \"freq\" else f\"ClaimAmount{coverage}\"\n",
    "model_denominator = f\"ClaimNb{coverage}\" if model == \"sev\" else exposure\n",
    "model_fraction = f\"{model.capitalize()}{coverage}\" if model != \"pp\" else f\"{model.upper()}{coverage}\"\n",
    "response = model_numerator if model == \"freq\" else model_fraction # Classical setup for GLMs. May be differennt for other ML models\n",
    "\n",
    "print(f\"Coverage: {coverage}\")\n",
    "print(f\"Model: {model}\")\n",
    "print(f\"Model numerator: {model_numerator}\")\n",
    "print(f\"Model denominator: {model_denominator}\")\n",
    "print(f\"Model fraction: {model_fraction}\")\n",
    "print(f\"Response: {response}\")"
   ]
  },
  {
   "cell_type": "code",
   "execution_count": 15,
   "metadata": {},
   "outputs": [
    {
     "data": {
      "text/html": [
       "<table class='dataframe'>\n",
       "<thead>\n",
       "<tr><th style=\"text-align: right;\">  ClaimAmountPartColl</th><th style=\"text-align: right;\">  ClaimNbPartColl</th><th style=\"text-align: right;\">  SevPartColl</th><th style=\"text-align: right;\">  SevPartColl0</th><th style=\"text-align: right;\">  ExposTotal</th></tr>\n",
       "</thead>\n",
       "<tbody>\n",
       "<tr><td style=\"text-align: right;\">                    0</td><td style=\"text-align: right;\">                0</td><td style=\"text-align: right;\">            0</td><td style=\"text-align: right;\">             0</td><td style=\"text-align: right;\">        1.01</td></tr>\n",
       "<tr><td style=\"text-align: right;\">                    0</td><td style=\"text-align: right;\">                0</td><td style=\"text-align: right;\">            0</td><td style=\"text-align: right;\">             0</td><td style=\"text-align: right;\">        3   </td></tr>\n",
       "</tbody>\n",
       "</table><pre style='font-size: smaller; margin-bottom: 1em;'>[2 rows x 5 columns]</pre>"
      ],
      "text/plain": [
       "  ClaimAmountPartColl    ClaimNbPartColl    SevPartColl    SevPartColl0    ExposTotal\n",
       "---------------------  -----------------  -------------  --------------  ------------\n",
       "                    0                  0              0               0          1.01\n",
       "                    0                  0              0               0          3\n",
       "[2 rows x 5 columns]\n"
      ]
     },
     "execution_count": 15,
     "metadata": {},
     "output_type": "execute_result"
    }
   ],
   "source": [
    "required_columns_ls = [model_numerator, model_denominator, model_fraction, response, exposure]\n",
    "\n",
    "input_df[required_columns_ls].head(2)"
   ]
  },
  {
   "cell_type": "code",
   "execution_count": 16,
   "metadata": {},
   "outputs": [],
   "source": [
    "if model in [\"freq\", \"sev\"]:\n",
    "    condition = (input_df[model_denominator]>0) & (input_df[model_numerator]>=0) & (input_df[model_fraction]>=0)\n",
    "elif model == \"sev\":\n",
    "    condition = (input_df[model_denominator]>0) & (input_df[model_numerator]>0) & (input_df[model_fraction]>0)\n",
    "df = input_df[condition]"
   ]
  },
  {
   "cell_type": "code",
   "execution_count": 17,
   "metadata": {},
   "outputs": [
    {
     "name": "stdout",
     "output_type": "stream",
     "text": [
      "Filtered Data shape: [187815, 37]\n"
     ]
    }
   ],
   "source": [
    "print(f\"Filtered Data shape: {df.dim}\")"
   ]
  },
  {
   "cell_type": "code",
   "execution_count": 18,
   "metadata": {},
   "outputs": [
    {
     "data": {
      "text/html": [
       "<table class='dataframe'>\n",
       "<thead>\n",
       "<tr><th style=\"text-align: right;\">  log(ExposTotal)</th></tr>\n",
       "</thead>\n",
       "<tbody>\n",
       "<tr><td style=\"text-align: right;\">       1.51513   </td></tr>\n",
       "<tr><td style=\"text-align: right;\">       0         </td></tr>\n",
       "<tr><td style=\"text-align: right;\">       2.34373   </td></tr>\n",
       "<tr><td style=\"text-align: right;\">       2.48407   </td></tr>\n",
       "<tr><td style=\"text-align: right;\">       1.79509   </td></tr>\n",
       "<tr><td style=\"text-align: right;\">       2.11505   </td></tr>\n",
       "<tr><td style=\"text-align: right;\">       4.07448   </td></tr>\n",
       "<tr><td style=\"text-align: right;\">       2.96011   </td></tr>\n",
       "<tr><td style=\"text-align: right;\">       1.03674   </td></tr>\n",
       "<tr><td style=\"text-align: right;\">       0.00995033</td></tr>\n",
       "</tbody>\n",
       "</table><pre style='font-size: smaller; margin-bottom: 1em;'>[187815 rows x 1 column]</pre>"
      ],
      "text/plain": [
       "  log(ExposTotal)\n",
       "-----------------\n",
       "       1.51513\n",
       "       0\n",
       "       2.34373\n",
       "       2.48407\n",
       "       1.79509\n",
       "       2.11505\n",
       "       4.07448\n",
       "       2.96011\n",
       "       1.03674\n",
       "       0.00995033\n",
       "[187815 rows x 1 column]\n"
      ]
     },
     "execution_count": 18,
     "metadata": {},
     "output_type": "execute_result"
    }
   ],
   "source": [
    "exposure_log_col = df[exposure].log()\n",
    "exposure_log_col"
   ]
  },
  {
   "cell_type": "code",
   "execution_count": 19,
   "metadata": {},
   "outputs": [],
   "source": [
    "df = df.cbind(exposure_log_col)"
   ]
  },
  {
   "cell_type": "code",
   "execution_count": 20,
   "metadata": {},
   "outputs": [
    {
     "data": {
      "text/plain": [
       "'log(ExposTotal)'"
      ]
     },
     "execution_count": 20,
     "metadata": {},
     "output_type": "execute_result"
    }
   ],
   "source": [
    "df.columns[-1]"
   ]
  },
  {
   "cell_type": "code",
   "execution_count": 21,
   "metadata": {},
   "outputs": [
    {
     "name": "stdout",
     "output_type": "stream",
     "text": [
      "Offset: None\n"
     ]
    }
   ],
   "source": [
    "exposure_log = 'log(ExposTotal)'\n",
    "offset = exposure_log if model == \"freq\" else None\n",
    "print(f\"Offset: {offset}\")"
   ]
  },
  {
   "cell_type": "code",
   "execution_count": 22,
   "metadata": {},
   "outputs": [
    {
     "data": {
      "text/html": [
       "<table class='dataframe'>\n",
       "<thead>\n",
       "<tr><th style=\"text-align: right;\">  ExposTotal</th><th style=\"text-align: right;\">  log(ExposTotal)</th></tr>\n",
       "</thead>\n",
       "<tbody>\n",
       "<tr><td style=\"text-align: right;\">        4.55</td><td style=\"text-align: right;\">       1.51513   </td></tr>\n",
       "<tr><td style=\"text-align: right;\">        1   </td><td style=\"text-align: right;\">       0         </td></tr>\n",
       "<tr><td style=\"text-align: right;\">       10.42</td><td style=\"text-align: right;\">       2.34373   </td></tr>\n",
       "<tr><td style=\"text-align: right;\">       11.99</td><td style=\"text-align: right;\">       2.48407   </td></tr>\n",
       "<tr><td style=\"text-align: right;\">        6.02</td><td style=\"text-align: right;\">       1.79509   </td></tr>\n",
       "<tr><td style=\"text-align: right;\">        8.29</td><td style=\"text-align: right;\">       2.11505   </td></tr>\n",
       "<tr><td style=\"text-align: right;\">       58.82</td><td style=\"text-align: right;\">       4.07448   </td></tr>\n",
       "<tr><td style=\"text-align: right;\">       19.3 </td><td style=\"text-align: right;\">       2.96011   </td></tr>\n",
       "<tr><td style=\"text-align: right;\">        2.82</td><td style=\"text-align: right;\">       1.03674   </td></tr>\n",
       "<tr><td style=\"text-align: right;\">        1.01</td><td style=\"text-align: right;\">       0.00995033</td></tr>\n",
       "</tbody>\n",
       "</table><pre style='font-size: smaller; margin-bottom: 1em;'>[10 rows x 2 columns]</pre>"
      ],
      "text/plain": [
       "  ExposTotal    log(ExposTotal)\n",
       "------------  -----------------\n",
       "        4.55         1.51513\n",
       "        1            0\n",
       "       10.42         2.34373\n",
       "       11.99         2.48407\n",
       "        6.02         1.79509\n",
       "        8.29         2.11505\n",
       "       58.82         4.07448\n",
       "       19.3          2.96011\n",
       "        2.82         1.03674\n",
       "        1.01         0.00995033\n",
       "[10 rows x 2 columns]\n"
      ]
     },
     "execution_count": 22,
     "metadata": {},
     "output_type": "execute_result"
    }
   ],
   "source": [
    "df[[exposure, exposure_log]].head()"
   ]
  },
  {
   "cell_type": "code",
   "execution_count": 23,
   "metadata": {},
   "outputs": [
    {
     "name": "stdout",
     "output_type": "stream",
     "text": [
      "Number of unique valuesfor Gender: 3\n",
      "Value counts for Gender:\n"
     ]
    },
    {
     "data": {
      "text/html": [
       "<table class='dataframe'>\n",
       "<thead>\n",
       "<tr><th>Gender  </th><th style=\"text-align: right;\">  Count</th></tr>\n",
       "</thead>\n",
       "<tbody>\n",
       "<tr><td>Female  </td><td style=\"text-align: right;\">  80598</td></tr>\n",
       "<tr><td>Male    </td><td style=\"text-align: right;\">  97544</td></tr>\n",
       "<tr><td>nan     </td><td style=\"text-align: right;\">   9673</td></tr>\n",
       "</tbody>\n",
       "</table><pre style='font-size: smaller; margin-bottom: 1em;'>[3 rows x 2 columns]</pre>"
      ],
      "text/plain": [
       "Gender      Count\n",
       "--------  -------\n",
       "Female      80598\n",
       "Male        97544\n",
       "nan          9673\n",
       "[3 rows x 2 columns]\n"
      ]
     },
     "metadata": {},
     "output_type": "display_data"
    },
    {
     "name": "stdout",
     "output_type": "stream",
     "text": [
      "Number of unique valuesfor DrivAge: 6\n",
      "Value counts for DrivAge:\n"
     ]
    },
    {
     "data": {
      "text/html": [
       "<table class='dataframe'>\n",
       "<thead>\n",
       "<tr><th>DrivAge  </th><th style=\"text-align: right;\">  Count</th></tr>\n",
       "</thead>\n",
       "<tbody>\n",
       "<tr><td>18-25    </td><td style=\"text-align: right;\">  11604</td></tr>\n",
       "<tr><td>26-35    </td><td style=\"text-align: right;\">  36300</td></tr>\n",
       "<tr><td>36-45    </td><td style=\"text-align: right;\">  54877</td></tr>\n",
       "<tr><td>46-55    </td><td style=\"text-align: right;\">  39208</td></tr>\n",
       "<tr><td>&gt;55      </td><td style=\"text-align: right;\">  36423</td></tr>\n",
       "<tr><td>nan      </td><td style=\"text-align: right;\">   9403</td></tr>\n",
       "</tbody>\n",
       "</table><pre style='font-size: smaller; margin-bottom: 1em;'>[6 rows x 2 columns]</pre>"
      ],
      "text/plain": [
       "DrivAge      Count\n",
       "---------  -------\n",
       "18-25        11604\n",
       "26-35        36300\n",
       "36-45        54877\n",
       "46-55        39208\n",
       ">55          36423\n",
       "nan           9403\n",
       "[6 rows x 2 columns]\n"
      ]
     },
     "metadata": {},
     "output_type": "display_data"
    },
    {
     "name": "stdout",
     "output_type": "stream",
     "text": [
      "Number of unique valuesfor VehModel: 2248\n",
      "Value counts for VehModel:\n"
     ]
    },
    {
     "data": {
      "text/html": [
       "<table class='dataframe'>\n",
       "<thead>\n",
       "<tr><th>VehModel                                       </th><th style=\"text-align: right;\">  Count</th></tr>\n",
       "</thead>\n",
       "<tbody>\n",
       "<tr><td>Agrale - 13000 Turbo 2p (diesel)               </td><td style=\"text-align: right;\">      1</td></tr>\n",
       "<tr><td>Agrale - 1600 D-rs 2p (diesel)                 </td><td style=\"text-align: right;\">      1</td></tr>\n",
       "<tr><td>Agrale - 5000 D-rd 2p (diesel)                 </td><td style=\"text-align: right;\">      1</td></tr>\n",
       "<tr><td>Agrale - 6000 D Cs 2p (diesel)                 </td><td style=\"text-align: right;\">      1</td></tr>\n",
       "<tr><td>Agrale - 7000 D 2p (diesel)                    </td><td style=\"text-align: right;\">      1</td></tr>\n",
       "<tr><td>Agrale - 8500 Turbo 2p (diesel)                </td><td style=\"text-align: right;\">      9</td></tr>\n",
       "<tr><td>Agrale - 9200 Turbo 2p (diesel)                </td><td style=\"text-align: right;\">      5</td></tr>\n",
       "<tr><td>Alfa Romeo - 147 2.0 16v 148cv 4p Semi-aut.    </td><td style=\"text-align: right;\">      1</td></tr>\n",
       "<tr><td>Alfa Romeo - 156 Ts/sport/elegant 2.0 16v      </td><td style=\"text-align: right;\">      4</td></tr>\n",
       "<tr><td>Alfa Romeo - 164 3.0 V6                        </td><td style=\"text-align: right;\">      1</td></tr>\n",
       "<tr><td>Audi - A3 1.6 3p                               </td><td style=\"text-align: right;\">      5</td></tr>\n",
       "<tr><td>Audi - A3 1.6 5p                               </td><td style=\"text-align: right;\">     14</td></tr>\n",
       "<tr><td>Audi - A3 1.6 5p Aut                           </td><td style=\"text-align: right;\">      1</td></tr>\n",
       "<tr><td>Audi - A3 1.6 8v 102cv 3p                      </td><td style=\"text-align: right;\">      2</td></tr>\n",
       "<tr><td>Audi - A3 1.8 3p                               </td><td style=\"text-align: right;\">     11</td></tr>\n",
       "<tr><td>Audi - A3 1.8 3p Aut.                          </td><td style=\"text-align: right;\">      2</td></tr>\n",
       "<tr><td>Audi - A3 1.8 5p Aut.                          </td><td style=\"text-align: right;\">     22</td></tr>\n",
       "<tr><td>Audi - A3 1.8 5p Mec.                          </td><td style=\"text-align: right;\">     40</td></tr>\n",
       "<tr><td>Audi - A3 1.8 Turbo 180cv 3p Aut./ Tip.        </td><td style=\"text-align: right;\">      1</td></tr>\n",
       "<tr><td>Audi - A3 1.8 Turbo 180cv 5p Aut./ Tip.        </td><td style=\"text-align: right;\">     10</td></tr>\n",
       "<tr><td>Audi - A3 1.8 Turbo 180cv 5p Mec.              </td><td style=\"text-align: right;\">      7</td></tr>\n",
       "<tr><td>Audi - A3 1.8 Turbo 3p Aut.                    </td><td style=\"text-align: right;\">      1</td></tr>\n",
       "<tr><td>Audi - A3 1.8 Turbo 3p Mec.                    </td><td style=\"text-align: right;\">      1</td></tr>\n",
       "<tr><td>Audi - A3 1.8 Turbo 5p Aut.                    </td><td style=\"text-align: right;\">     19</td></tr>\n",
       "<tr><td>Audi - A3 1.8 Turbo 5p Mec.                    </td><td style=\"text-align: right;\">     14</td></tr>\n",
       "<tr><td>Audi - A3 Sportback 1.6 8v 102cv 5p            </td><td style=\"text-align: right;\">      5</td></tr>\n",
       "<tr><td>Audi - A3 Sportback 2.0 16v Turbo Fsi Mec.     </td><td style=\"text-align: right;\">     12</td></tr>\n",
       "<tr><td>Audi - A3 Sportback 2.0 16v Turbo Fsi S-tronic </td><td style=\"text-align: right;\">     47</td></tr>\n",
       "<tr><td>Audi - A4 1.8 Tip./ Multitronic Turbo          </td><td style=\"text-align: right;\">     13</td></tr>\n",
       "<tr><td>Audi - A4 2.0 16v Tb Fsi Multitronic           </td><td style=\"text-align: right;\">     10</td></tr>\n",
       "<tr><td>Audi - A4 2.8 30v  Tiptronic/ Aut.             </td><td style=\"text-align: right;\">      1</td></tr>\n",
       "<tr><td>Audi - A4 3.0 30v 218cv Multitronic 4p         </td><td style=\"text-align: right;\">      3</td></tr>\n",
       "<tr><td>Audi - A5 3.2 Fsi 24v 269cv Multitronic        </td><td style=\"text-align: right;\">      1</td></tr>\n",
       "<tr><td>Audi - A6 2.8 30v Tiptronic                    </td><td style=\"text-align: right;\">      2</td></tr>\n",
       "<tr><td>Audi - A6 3.0 V6 30v 218cv Multitronic 4p      </td><td style=\"text-align: right;\">      4</td></tr>\n",
       "<tr><td>Audi - A6 3.2 Fsi 24v 255cv Multitronic        </td><td style=\"text-align: right;\">      1</td></tr>\n",
       "<tr><td>Audi - A6 4.2 Avant Quattro Tiptronic          </td><td style=\"text-align: right;\">      1</td></tr>\n",
       "<tr><td>Audi - A6 4.2 Quattro Tiptronic                </td><td style=\"text-align: right;\">      1</td></tr>\n",
       "<tr><td>Audi - A8 4.2 Quatto Tiptronic                 </td><td style=\"text-align: right;\">      1</td></tr>\n",
       "<tr><td>Audi - Q7 3.6 V6 284cv Quattro Tiptronic       </td><td style=\"text-align: right;\">      2</td></tr>\n",
       "<tr><td>Audi - Q7 4.2 V8 40v 350cv Quattro Tiptronic   </td><td style=\"text-align: right;\">      6</td></tr>\n",
       "<tr><td>Audi - Rs6 4.2 450cv Bi-tb Quattro Tiptronic 4p</td><td style=\"text-align: right;\">      1</td></tr>\n",
       "<tr><td>Audi - Tt 2.0 16v Turbo Fsi S-tronic           </td><td style=\"text-align: right;\">      4</td></tr>\n",
       "<tr><td>Audi - Tt Roadster 2.0 16v Turbo Fsi S-tronic  </td><td style=\"text-align: right;\">      1</td></tr>\n",
       "<tr><td>Bmw - 120i 2.0 16v 150cv/ 156cv 5p             </td><td style=\"text-align: right;\">      8</td></tr>\n",
       "<tr><td>Bmw - 120ia 2.0 16v 150cv/ 156cv 5p            </td><td style=\"text-align: right;\">     18</td></tr>\n",
       "<tr><td>Bmw - 120ia 2.0 16v 156cv 3p                   </td><td style=\"text-align: right;\">      2</td></tr>\n",
       "<tr><td>Bmw - 130i 3.0 24v 265cv 5p                    </td><td style=\"text-align: right;\">      2</td></tr>\n",
       "<tr><td>Bmw - 130ia 3.0 24v 265cv 3p                   </td><td style=\"text-align: right;\">      2</td></tr>\n",
       "<tr><td>Bmw - 130ia 3.0 24v 265cv 5p                   </td><td style=\"text-align: right;\">      6</td></tr>\n",
       "</tbody>\n",
       "</table><pre style='font-size: smaller; margin-bottom: 1em;'>[50 rows x 2 columns]</pre>"
      ],
      "text/plain": [
       "VehModel                                           Count\n",
       "-----------------------------------------------  -------\n",
       "Agrale - 13000 Turbo 2p (diesel)                       1\n",
       "Agrale - 1600 D-rs 2p (diesel)                         1\n",
       "Agrale - 5000 D-rd 2p (diesel)                         1\n",
       "Agrale - 6000 D Cs 2p (diesel)                         1\n",
       "Agrale - 7000 D 2p (diesel)                            1\n",
       "Agrale - 8500 Turbo 2p (diesel)                        9\n",
       "Agrale - 9200 Turbo 2p (diesel)                        5\n",
       "Alfa Romeo - 147 2.0 16v 148cv 4p Semi-aut.            1\n",
       "Alfa Romeo - 156 Ts/sport/elegant 2.0 16v              4\n",
       "Alfa Romeo - 164 3.0 V6                                1\n",
       "Audi - A3 1.6 3p                                       5\n",
       "Audi - A3 1.6 5p                                      14\n",
       "Audi - A3 1.6 5p Aut                                   1\n",
       "Audi - A3 1.6 8v 102cv 3p                              2\n",
       "Audi - A3 1.8 3p                                      11\n",
       "Audi - A3 1.8 3p Aut.                                  2\n",
       "Audi - A3 1.8 5p Aut.                                 22\n",
       "Audi - A3 1.8 5p Mec.                                 40\n",
       "Audi - A3 1.8 Turbo 180cv 3p Aut./ Tip.                1\n",
       "Audi - A3 1.8 Turbo 180cv 5p Aut./ Tip.               10\n",
       "Audi - A3 1.8 Turbo 180cv 5p Mec.                      7\n",
       "Audi - A3 1.8 Turbo 3p Aut.                            1\n",
       "Audi - A3 1.8 Turbo 3p Mec.                            1\n",
       "Audi - A3 1.8 Turbo 5p Aut.                           19\n",
       "Audi - A3 1.8 Turbo 5p Mec.                           14\n",
       "Audi - A3 Sportback 1.6 8v 102cv 5p                    5\n",
       "Audi - A3 Sportback 2.0 16v Turbo Fsi Mec.            12\n",
       "Audi - A3 Sportback 2.0 16v Turbo Fsi S-tronic        47\n",
       "Audi - A4 1.8 Tip./ Multitronic Turbo                 13\n",
       "Audi - A4 2.0 16v Tb Fsi Multitronic                  10\n",
       "Audi - A4 2.8 30v  Tiptronic/ Aut.                     1\n",
       "Audi - A4 3.0 30v 218cv Multitronic 4p                 3\n",
       "Audi - A5 3.2 Fsi 24v 269cv Multitronic                1\n",
       "Audi - A6 2.8 30v Tiptronic                            2\n",
       "Audi - A6 3.0 V6 30v 218cv Multitronic 4p              4\n",
       "Audi - A6 3.2 Fsi 24v 255cv Multitronic                1\n",
       "Audi - A6 4.2 Avant Quattro Tiptronic                  1\n",
       "Audi - A6 4.2 Quattro Tiptronic                        1\n",
       "Audi - A8 4.2 Quatto Tiptronic                         1\n",
       "Audi - Q7 3.6 V6 284cv Quattro Tiptronic               2\n",
       "Audi - Q7 4.2 V8 40v 350cv Quattro Tiptronic           6\n",
       "Audi - Rs6 4.2 450cv Bi-tb Quattro Tiptronic 4p        1\n",
       "Audi - Tt 2.0 16v Turbo Fsi S-tronic                   4\n",
       "Audi - Tt Roadster 2.0 16v Turbo Fsi S-tronic          1\n",
       "Bmw - 120i 2.0 16v 150cv/ 156cv 5p                     8\n",
       "Bmw - 120ia 2.0 16v 150cv/ 156cv 5p                   18\n",
       "Bmw - 120ia 2.0 16v 156cv 3p                           2\n",
       "Bmw - 130i 3.0 24v 265cv 5p                            2\n",
       "Bmw - 130ia 3.0 24v 265cv 3p                           2\n",
       "Bmw - 130ia 3.0 24v 265cv 5p                           6\n",
       "[50 rows x 2 columns]\n"
      ]
     },
     "metadata": {},
     "output_type": "display_data"
    },
    {
     "name": "stdout",
     "output_type": "stream",
     "text": [
      "Number of unique valuesfor VehGroup: 285\n",
      "Value counts for VehGroup:\n"
     ]
    },
    {
     "data": {
      "text/html": [
       "<table class='dataframe'>\n",
       "<thead>\n",
       "<tr><th>VehGroup                   </th><th style=\"text-align: right;\">  Count</th></tr>\n",
       "</thead>\n",
       "<tbody>\n",
       "<tr><td>Agrale Caminhoes - Todos   </td><td style=\"text-align: right;\">     19</td></tr>\n",
       "<tr><td>Alfa Romeo 147             </td><td style=\"text-align: right;\">      1</td></tr>\n",
       "<tr><td>Alfa Romeo 156             </td><td style=\"text-align: right;\">      4</td></tr>\n",
       "<tr><td>Alfa Romeo 164             </td><td style=\"text-align: right;\">      1</td></tr>\n",
       "<tr><td>Audi A3                    </td><td style=\"text-align: right;\">    214</td></tr>\n",
       "<tr><td>Audi A4                    </td><td style=\"text-align: right;\">     27</td></tr>\n",
       "<tr><td>Audi A5                    </td><td style=\"text-align: right;\">      1</td></tr>\n",
       "<tr><td>Audi A6                    </td><td style=\"text-align: right;\">      9</td></tr>\n",
       "<tr><td>Audi A8                    </td><td style=\"text-align: right;\">      1</td></tr>\n",
       "<tr><td>Audi Q7                    </td><td style=\"text-align: right;\">      8</td></tr>\n",
       "<tr><td>Audi Rs6                   </td><td style=\"text-align: right;\">      1</td></tr>\n",
       "<tr><td>Audi Tt                    </td><td style=\"text-align: right;\">      5</td></tr>\n",
       "<tr><td>Bmw - Todos                </td><td style=\"text-align: right;\">    289</td></tr>\n",
       "<tr><td>Bmw Motos Acima De 450cc   </td><td style=\"text-align: right;\">     32</td></tr>\n",
       "<tr><td>Brp                        </td><td style=\"text-align: right;\">      1</td></tr>\n",
       "<tr><td>Buell Motos - Todas        </td><td style=\"text-align: right;\">      5</td></tr>\n",
       "<tr><td>Chana                      </td><td style=\"text-align: right;\">      5</td></tr>\n",
       "<tr><td>Chevrolet Caminhoes - Todos</td><td style=\"text-align: right;\">      1</td></tr>\n",
       "<tr><td>Chrysler - Todos           </td><td style=\"text-align: right;\">    172</td></tr>\n",
       "<tr><td>Citroen Berlingo           </td><td style=\"text-align: right;\">     16</td></tr>\n",
       "<tr><td>Citroen C3                 </td><td style=\"text-align: right;\">   2600</td></tr>\n",
       "<tr><td>Citroen C4                 </td><td style=\"text-align: right;\">   1335</td></tr>\n",
       "<tr><td>Citroen C5                 </td><td style=\"text-align: right;\">     56</td></tr>\n",
       "<tr><td>Citroen C6                 </td><td style=\"text-align: right;\">      1</td></tr>\n",
       "<tr><td>Citroen C8                 </td><td style=\"text-align: right;\">      7</td></tr>\n",
       "<tr><td>Citroen Jumper             </td><td style=\"text-align: right;\">     20</td></tr>\n",
       "<tr><td>Citroen Xantia             </td><td style=\"text-align: right;\">      2</td></tr>\n",
       "<tr><td>Citroen Xsara              </td><td style=\"text-align: right;\">   1422</td></tr>\n",
       "<tr><td>Citroen Zx                 </td><td style=\"text-align: right;\">      1</td></tr>\n",
       "<tr><td>Daewoo - Todos             </td><td style=\"text-align: right;\">      2</td></tr>\n",
       "<tr><td>Dafra                      </td><td style=\"text-align: right;\">     21</td></tr>\n",
       "<tr><td>Daihatsu - Todos           </td><td style=\"text-align: right;\">      1</td></tr>\n",
       "<tr><td>Dayun                      </td><td style=\"text-align: right;\">      1</td></tr>\n",
       "<tr><td>Dodge Dakota               </td><td style=\"text-align: right;\">      6</td></tr>\n",
       "<tr><td>Dodge Journey              </td><td style=\"text-align: right;\">     52</td></tr>\n",
       "<tr><td>Dodge Ram                  </td><td style=\"text-align: right;\">     57</td></tr>\n",
       "<tr><td>Ducati Motos - Todas       </td><td style=\"text-align: right;\">      3</td></tr>\n",
       "<tr><td>Effa                       </td><td style=\"text-align: right;\">     20</td></tr>\n",
       "<tr><td>Engesa                     </td><td style=\"text-align: right;\">      1</td></tr>\n",
       "<tr><td>Ferrari - Todos            </td><td style=\"text-align: right;\">      1</td></tr>\n",
       "<tr><td>Fiat Brava                 </td><td style=\"text-align: right;\">    108</td></tr>\n",
       "<tr><td>Fiat Doblo                 </td><td style=\"text-align: right;\">    808</td></tr>\n",
       "<tr><td>Fiat Ducato                </td><td style=\"text-align: right;\">    128</td></tr>\n",
       "<tr><td>Fiat Elba                  </td><td style=\"text-align: right;\">     25</td></tr>\n",
       "<tr><td>Fiat Fiorino               </td><td style=\"text-align: right;\">    644</td></tr>\n",
       "<tr><td>Fiat Idea                  </td><td style=\"text-align: right;\">   1365</td></tr>\n",
       "<tr><td>Fiat Linea                 </td><td style=\"text-align: right;\">    450</td></tr>\n",
       "<tr><td>Fiat Marea                 </td><td style=\"text-align: right;\">     77</td></tr>\n",
       "<tr><td>Fiat Marea Weekend         </td><td style=\"text-align: right;\">     44</td></tr>\n",
       "<tr><td>Fiat Palio 1.0             </td><td style=\"text-align: right;\">   9109</td></tr>\n",
       "</tbody>\n",
       "</table><pre style='font-size: smaller; margin-bottom: 1em;'>[50 rows x 2 columns]</pre>"
      ],
      "text/plain": [
       "VehGroup                       Count\n",
       "---------------------------  -------\n",
       "Agrale Caminhoes - Todos          19\n",
       "Alfa Romeo 147                     1\n",
       "Alfa Romeo 156                     4\n",
       "Alfa Romeo 164                     1\n",
       "Audi A3                          214\n",
       "Audi A4                           27\n",
       "Audi A5                            1\n",
       "Audi A6                            9\n",
       "Audi A8                            1\n",
       "Audi Q7                            8\n",
       "Audi Rs6                           1\n",
       "Audi Tt                            5\n",
       "Bmw - Todos                      289\n",
       "Bmw Motos Acima De 450cc          32\n",
       "Brp                                1\n",
       "Buell Motos - Todas                5\n",
       "Chana                              5\n",
       "Chevrolet Caminhoes - Todos        1\n",
       "Chrysler - Todos                 172\n",
       "Citroen Berlingo                  16\n",
       "Citroen C3                      2600\n",
       "Citroen C4                      1335\n",
       "Citroen C5                        56\n",
       "Citroen C6                         1\n",
       "Citroen C8                         7\n",
       "Citroen Jumper                    20\n",
       "Citroen Xantia                     2\n",
       "Citroen Xsara                   1422\n",
       "Citroen Zx                         1\n",
       "Daewoo - Todos                     2\n",
       "Dafra                             21\n",
       "Daihatsu - Todos                   1\n",
       "Dayun                              1\n",
       "Dodge Dakota                       6\n",
       "Dodge Journey                     52\n",
       "Dodge Ram                         57\n",
       "Ducati Motos - Todas               3\n",
       "Effa                              20\n",
       "Engesa                             1\n",
       "Ferrari - Todos                    1\n",
       "Fiat Brava                       108\n",
       "Fiat Doblo                       808\n",
       "Fiat Ducato                      128\n",
       "Fiat Elba                         25\n",
       "Fiat Fiorino                     644\n",
       "Fiat Idea                       1365\n",
       "Fiat Linea                       450\n",
       "Fiat Marea                        77\n",
       "Fiat Marea Weekend                44\n",
       "Fiat Palio 1.0                  9109\n",
       "[50 rows x 2 columns]\n"
      ]
     },
     "metadata": {},
     "output_type": "display_data"
    },
    {
     "name": "stdout",
     "output_type": "stream",
     "text": [
      "Number of unique valuesfor Area: 40\n",
      "Value counts for Area:\n"
     ]
    },
    {
     "data": {
      "text/html": [
       "<table class='dataframe'>\n",
       "<thead>\n",
       "<tr><th>Area                                      </th><th style=\"text-align: right;\">  Count</th></tr>\n",
       "</thead>\n",
       "<tbody>\n",
       "<tr><td>Acre                                      </td><td style=\"text-align: right;\">    408</td></tr>\n",
       "<tr><td>Alagoas                                   </td><td style=\"text-align: right;\">   1830</td></tr>\n",
       "<tr><td>Amapa                                     </td><td style=\"text-align: right;\">    269</td></tr>\n",
       "<tr><td>Amazonas                                  </td><td style=\"text-align: right;\">   1371</td></tr>\n",
       "<tr><td>Bahia                                     </td><td style=\"text-align: right;\">   5843</td></tr>\n",
       "<tr><td>Blumenau e demais regioes                 </td><td style=\"text-align: right;\">   6289</td></tr>\n",
       "<tr><td>Brasilia                                  </td><td style=\"text-align: right;\">   7133</td></tr>\n",
       "<tr><td>Ceara                                     </td><td style=\"text-align: right;\">   3914</td></tr>\n",
       "<tr><td>Demais regioes                            </td><td style=\"text-align: right;\">  13320</td></tr>\n",
       "<tr><td>Espirito Santo                            </td><td style=\"text-align: right;\">   4111</td></tr>\n",
       "<tr><td>F.Iguatu-Medianeira-Cascavel-Toledo       </td><td style=\"text-align: right;\">   3096</td></tr>\n",
       "<tr><td>Goias                                     </td><td style=\"text-align: right;\">   6549</td></tr>\n",
       "<tr><td>Grande Campinas                           </td><td style=\"text-align: right;\">   6538</td></tr>\n",
       "<tr><td>Interior                                  </td><td style=\"text-align: right;\">   3646</td></tr>\n",
       "<tr><td>Litoral Norte e Baixada Santista          </td><td style=\"text-align: right;\">   2048</td></tr>\n",
       "<tr><td>Maranhao                                  </td><td style=\"text-align: right;\">   1784</td></tr>\n",
       "<tr><td>Mato Grosso                               </td><td style=\"text-align: right;\">   3341</td></tr>\n",
       "<tr><td>Mato Grosso do Sul                        </td><td style=\"text-align: right;\">   3223</td></tr>\n",
       "<tr><td>Met. Curitiba                             </td><td style=\"text-align: right;\">   8574</td></tr>\n",
       "<tr><td>Met. Florianopolis e Sul                  </td><td style=\"text-align: right;\">   4988</td></tr>\n",
       "<tr><td>Met. Porto Alegre e Caxias do Sul         </td><td style=\"text-align: right;\">   8343</td></tr>\n",
       "<tr><td>Met. de Sao Paulo                         </td><td style=\"text-align: right;\">  20269</td></tr>\n",
       "<tr><td>Met. do Rio de Janeiro                    </td><td style=\"text-align: right;\">   9405</td></tr>\n",
       "<tr><td>Met.BH-Centro Oeste-Zona Mata-C. Vertentes</td><td style=\"text-align: right;\">   9195</td></tr>\n",
       "<tr><td>Oeste                                     </td><td style=\"text-align: right;\">   2097</td></tr>\n",
       "<tr><td>Para                                      </td><td style=\"text-align: right;\">   2437</td></tr>\n",
       "<tr><td>Paraiba                                   </td><td style=\"text-align: right;\">   2302</td></tr>\n",
       "<tr><td>Pernambuco                                </td><td style=\"text-align: right;\">   4460</td></tr>\n",
       "<tr><td>Piaui                                     </td><td style=\"text-align: right;\">   1504</td></tr>\n",
       "<tr><td>Ribeirao Preto e Demais Mun. de Campinas  </td><td style=\"text-align: right;\">  16956</td></tr>\n",
       "<tr><td>Rio Grande do Norte                       </td><td style=\"text-align: right;\">   2437</td></tr>\n",
       "<tr><td>Rondonia                                  </td><td style=\"text-align: right;\">    221</td></tr>\n",
       "<tr><td>Roraima                                   </td><td style=\"text-align: right;\">    201</td></tr>\n",
       "<tr><td>Sergipe                                   </td><td style=\"text-align: right;\">   1970</td></tr>\n",
       "<tr><td>Sudeste de Goias                          </td><td style=\"text-align: right;\">   1067</td></tr>\n",
       "<tr><td>Sul                                       </td><td style=\"text-align: right;\">   2871</td></tr>\n",
       "<tr><td>Tocantins                                 </td><td style=\"text-align: right;\">   1070</td></tr>\n",
       "<tr><td>Triangulo mineiro                         </td><td style=\"text-align: right;\">   5158</td></tr>\n",
       "<tr><td>Vale do Aco-Norte-Vale Jequitinhonha      </td><td style=\"text-align: right;\">   1625</td></tr>\n",
       "<tr><td>Vale do Paraiba e Ribeira                 </td><td style=\"text-align: right;\">   5952</td></tr>\n",
       "</tbody>\n",
       "</table><pre style='font-size: smaller; margin-bottom: 1em;'>[40 rows x 2 columns]</pre>"
      ],
      "text/plain": [
       "Area                                          Count\n",
       "------------------------------------------  -------\n",
       "Acre                                            408\n",
       "Alagoas                                        1830\n",
       "Amapa                                           269\n",
       "Amazonas                                       1371\n",
       "Bahia                                          5843\n",
       "Blumenau e demais regioes                      6289\n",
       "Brasilia                                       7133\n",
       "Ceara                                          3914\n",
       "Demais regioes                                13320\n",
       "Espirito Santo                                 4111\n",
       "F.Iguatu-Medianeira-Cascavel-Toledo            3096\n",
       "Goias                                          6549\n",
       "Grande Campinas                                6538\n",
       "Interior                                       3646\n",
       "Litoral Norte e Baixada Santista               2048\n",
       "Maranhao                                       1784\n",
       "Mato Grosso                                    3341\n",
       "Mato Grosso do Sul                             3223\n",
       "Met. Curitiba                                  8574\n",
       "Met. Florianopolis e Sul                       4988\n",
       "Met. Porto Alegre e Caxias do Sul              8343\n",
       "Met. de Sao Paulo                             20269\n",
       "Met. do Rio de Janeiro                         9405\n",
       "Met.BH-Centro Oeste-Zona Mata-C. Vertentes     9195\n",
       "Oeste                                          2097\n",
       "Para                                           2437\n",
       "Paraiba                                        2302\n",
       "Pernambuco                                     4460\n",
       "Piaui                                          1504\n",
       "Ribeirao Preto e Demais Mun. de Campinas      16956\n",
       "Rio Grande do Norte                            2437\n",
       "Rondonia                                        221\n",
       "Roraima                                         201\n",
       "Sergipe                                        1970\n",
       "Sudeste de Goias                               1067\n",
       "Sul                                            2871\n",
       "Tocantins                                      1070\n",
       "Triangulo mineiro                              5158\n",
       "Vale do Aco-Norte-Vale Jequitinhonha           1625\n",
       "Vale do Paraiba e Ribeira                      5952\n",
       "[40 rows x 2 columns]\n"
      ]
     },
     "metadata": {},
     "output_type": "display_data"
    },
    {
     "name": "stdout",
     "output_type": "stream",
     "text": [
      "Number of unique valuesfor State: 27\n",
      "Value counts for State:\n"
     ]
    },
    {
     "data": {
      "text/html": [
       "<table class='dataframe'>\n",
       "<thead>\n",
       "<tr><th>State              </th><th style=\"text-align: right;\">  Count</th></tr>\n",
       "</thead>\n",
       "<tbody>\n",
       "<tr><td>Acre               </td><td style=\"text-align: right;\">    408</td></tr>\n",
       "<tr><td>Alagoas            </td><td style=\"text-align: right;\">   1830</td></tr>\n",
       "<tr><td>Amapa              </td><td style=\"text-align: right;\">    269</td></tr>\n",
       "<tr><td>Amazonas           </td><td style=\"text-align: right;\">   1371</td></tr>\n",
       "<tr><td>Bahia              </td><td style=\"text-align: right;\">   5843</td></tr>\n",
       "<tr><td>Ceara              </td><td style=\"text-align: right;\">   3914</td></tr>\n",
       "<tr><td>Distrito Federal   </td><td style=\"text-align: right;\">   7133</td></tr>\n",
       "<tr><td>Esperito Santo     </td><td style=\"text-align: right;\">   4111</td></tr>\n",
       "<tr><td>Goias              </td><td style=\"text-align: right;\">   7616</td></tr>\n",
       "<tr><td>Maranhao           </td><td style=\"text-align: right;\">   1784</td></tr>\n",
       "<tr><td>Mato Grosso        </td><td style=\"text-align: right;\">   3341</td></tr>\n",
       "<tr><td>Mato Grosso do Sul </td><td style=\"text-align: right;\">   3223</td></tr>\n",
       "<tr><td>Minas Gerais       </td><td style=\"text-align: right;\">  18849</td></tr>\n",
       "<tr><td>Para               </td><td style=\"text-align: right;\">   2437</td></tr>\n",
       "<tr><td>Paraiba            </td><td style=\"text-align: right;\">   2302</td></tr>\n",
       "<tr><td>Parana             </td><td style=\"text-align: right;\">  17869</td></tr>\n",
       "<tr><td>Pernambuco         </td><td style=\"text-align: right;\">   4460</td></tr>\n",
       "<tr><td>Piaui              </td><td style=\"text-align: right;\">   1504</td></tr>\n",
       "<tr><td>Rio Grande do Norte</td><td style=\"text-align: right;\">   2437</td></tr>\n",
       "<tr><td>Rio Grande do Sul  </td><td style=\"text-align: right;\">  15464</td></tr>\n",
       "<tr><td>Rio de Janeiro     </td><td style=\"text-align: right;\">  13051</td></tr>\n",
       "<tr><td>Rondonia           </td><td style=\"text-align: right;\">    221</td></tr>\n",
       "<tr><td>Roraima            </td><td style=\"text-align: right;\">    201</td></tr>\n",
       "<tr><td>Santa Catarina     </td><td style=\"text-align: right;\">  13374</td></tr>\n",
       "<tr><td>Sao Paulo          </td><td style=\"text-align: right;\">  51763</td></tr>\n",
       "<tr><td>Sergipe            </td><td style=\"text-align: right;\">   1970</td></tr>\n",
       "<tr><td>Tocantins          </td><td style=\"text-align: right;\">   1070</td></tr>\n",
       "</tbody>\n",
       "</table><pre style='font-size: smaller; margin-bottom: 1em;'>[27 rows x 2 columns]</pre>"
      ],
      "text/plain": [
       "State                  Count\n",
       "-------------------  -------\n",
       "Acre                     408\n",
       "Alagoas                 1830\n",
       "Amapa                    269\n",
       "Amazonas                1371\n",
       "Bahia                   5843\n",
       "Ceara                   3914\n",
       "Distrito Federal        7133\n",
       "Esperito Santo          4111\n",
       "Goias                   7616\n",
       "Maranhao                1784\n",
       "Mato Grosso             3341\n",
       "Mato Grosso do Sul      3223\n",
       "Minas Gerais           18849\n",
       "Para                    2437\n",
       "Paraiba                 2302\n",
       "Parana                 17869\n",
       "Pernambuco              4460\n",
       "Piaui                   1504\n",
       "Rio Grande do Norte     2437\n",
       "Rio Grande do Sul      15464\n",
       "Rio de Janeiro         13051\n",
       "Rondonia                 221\n",
       "Roraima                  201\n",
       "Santa Catarina         13374\n",
       "Sao Paulo              51763\n",
       "Sergipe                 1970\n",
       "Tocantins               1070\n",
       "[27 rows x 2 columns]\n"
      ]
     },
     "metadata": {},
     "output_type": "display_data"
    },
    {
     "name": "stdout",
     "output_type": "stream",
     "text": [
      "Number of unique valuesfor StateAb: 27\n",
      "Value counts for StateAb:\n"
     ]
    },
    {
     "data": {
      "text/html": [
       "<table class='dataframe'>\n",
       "<thead>\n",
       "<tr><th>StateAb  </th><th style=\"text-align: right;\">  Count</th></tr>\n",
       "</thead>\n",
       "<tbody>\n",
       "<tr><td>AC       </td><td style=\"text-align: right;\">    408</td></tr>\n",
       "<tr><td>AL       </td><td style=\"text-align: right;\">   1830</td></tr>\n",
       "<tr><td>AM       </td><td style=\"text-align: right;\">   1371</td></tr>\n",
       "<tr><td>AP       </td><td style=\"text-align: right;\">    269</td></tr>\n",
       "<tr><td>BA       </td><td style=\"text-align: right;\">   5843</td></tr>\n",
       "<tr><td>CE       </td><td style=\"text-align: right;\">   3914</td></tr>\n",
       "<tr><td>DF       </td><td style=\"text-align: right;\">   7133</td></tr>\n",
       "<tr><td>ES       </td><td style=\"text-align: right;\">   4111</td></tr>\n",
       "<tr><td>GO       </td><td style=\"text-align: right;\">   7616</td></tr>\n",
       "<tr><td>MA       </td><td style=\"text-align: right;\">   1784</td></tr>\n",
       "<tr><td>MG       </td><td style=\"text-align: right;\">  18849</td></tr>\n",
       "<tr><td>MS       </td><td style=\"text-align: right;\">   3223</td></tr>\n",
       "<tr><td>MT       </td><td style=\"text-align: right;\">   3341</td></tr>\n",
       "<tr><td>PA       </td><td style=\"text-align: right;\">   2437</td></tr>\n",
       "<tr><td>PB       </td><td style=\"text-align: right;\">   2302</td></tr>\n",
       "<tr><td>PE       </td><td style=\"text-align: right;\">   4460</td></tr>\n",
       "<tr><td>PI       </td><td style=\"text-align: right;\">   1504</td></tr>\n",
       "<tr><td>PR       </td><td style=\"text-align: right;\">  17869</td></tr>\n",
       "<tr><td>RJ       </td><td style=\"text-align: right;\">  13051</td></tr>\n",
       "<tr><td>RN       </td><td style=\"text-align: right;\">   2437</td></tr>\n",
       "<tr><td>RO       </td><td style=\"text-align: right;\">    221</td></tr>\n",
       "<tr><td>RR       </td><td style=\"text-align: right;\">    201</td></tr>\n",
       "<tr><td>RS       </td><td style=\"text-align: right;\">  15464</td></tr>\n",
       "<tr><td>SC       </td><td style=\"text-align: right;\">  13374</td></tr>\n",
       "<tr><td>SE       </td><td style=\"text-align: right;\">   1970</td></tr>\n",
       "<tr><td>SP       </td><td style=\"text-align: right;\">  51763</td></tr>\n",
       "<tr><td>TO       </td><td style=\"text-align: right;\">   1070</td></tr>\n",
       "</tbody>\n",
       "</table><pre style='font-size: smaller; margin-bottom: 1em;'>[27 rows x 2 columns]</pre>"
      ],
      "text/plain": [
       "StateAb      Count\n",
       "---------  -------\n",
       "AC             408\n",
       "AL            1830\n",
       "AM            1371\n",
       "AP             269\n",
       "BA            5843\n",
       "CE            3914\n",
       "DF            7133\n",
       "ES            4111\n",
       "GO            7616\n",
       "MA            1784\n",
       "MG           18849\n",
       "MS            3223\n",
       "MT            3341\n",
       "PA            2437\n",
       "PB            2302\n",
       "PE            4460\n",
       "PI            1504\n",
       "PR           17869\n",
       "RJ           13051\n",
       "RN            2437\n",
       "RO             221\n",
       "RR             201\n",
       "RS           15464\n",
       "SC           13374\n",
       "SE            1970\n",
       "SP           51763\n",
       "TO            1070\n",
       "[27 rows x 2 columns]\n"
      ]
     },
     "metadata": {},
     "output_type": "display_data"
    }
   ],
   "source": [
    "enum_columns = [col for col, dtype in df.types.items() if dtype == \"enum\"]\n",
    "for col in enum_columns:\n",
    "    print(f\"Number of unique valuesfor {col}: {len(df[col].unique())}\")\n",
    "    print(f\"Value counts for {col}:\")\n",
    "    display(df[col].table().head(50))"
   ]
  },
  {
   "cell_type": "code",
   "execution_count": null,
   "metadata": {},
   "outputs": [],
   "source": [
    "#nan its no information\n"
   ]
  },
  {
   "cell_type": "code",
   "execution_count": 24,
   "metadata": {},
   "outputs": [
    {
     "name": "stdout",
     "output_type": "stream",
     "text": [
      "Counts of unique values by Gender and Fold:\n",
      "All good! All categories of the Gender column have at least one value for each fold.\n"
     ]
    },
    {
     "data": {
      "text/html": [
       "<table class='dataframe'>\n",
       "<thead>\n",
       "<tr><th>Gender  </th><th style=\"text-align: right;\">  Fold</th><th style=\"text-align: right;\">  nrow</th></tr>\n",
       "</thead>\n",
       "<tbody>\n",
       "<tr><td>Female  </td><td style=\"text-align: right;\">     1</td><td style=\"text-align: right;\"> 12879</td></tr>\n",
       "<tr><td>Female  </td><td style=\"text-align: right;\">     2</td><td style=\"text-align: right;\"> 13010</td></tr>\n",
       "<tr><td>Female  </td><td style=\"text-align: right;\">     3</td><td style=\"text-align: right;\"> 12708</td></tr>\n",
       "<tr><td>Female  </td><td style=\"text-align: right;\">     4</td><td style=\"text-align: right;\"> 12907</td></tr>\n",
       "<tr><td>Female  </td><td style=\"text-align: right;\">     5</td><td style=\"text-align: right;\"> 12985</td></tr>\n",
       "<tr><td>Female  </td><td style=\"text-align: right;\">     6</td><td style=\"text-align: right;\"> 16109</td></tr>\n",
       "<tr><td>Male    </td><td style=\"text-align: right;\">     1</td><td style=\"text-align: right;\"> 15833</td></tr>\n",
       "<tr><td>Male    </td><td style=\"text-align: right;\">     2</td><td style=\"text-align: right;\"> 15630</td></tr>\n",
       "<tr><td>Male    </td><td style=\"text-align: right;\">     3</td><td style=\"text-align: right;\"> 15489</td></tr>\n",
       "<tr><td>Male    </td><td style=\"text-align: right;\">     4</td><td style=\"text-align: right;\"> 15622</td></tr>\n",
       "<tr><td>Male    </td><td style=\"text-align: right;\">     5</td><td style=\"text-align: right;\"> 15480</td></tr>\n",
       "<tr><td>Male    </td><td style=\"text-align: right;\">     6</td><td style=\"text-align: right;\"> 19490</td></tr>\n",
       "<tr><td>nan     </td><td style=\"text-align: right;\">     1</td><td style=\"text-align: right;\">  1573</td></tr>\n",
       "<tr><td>nan     </td><td style=\"text-align: right;\">     2</td><td style=\"text-align: right;\">  1547</td></tr>\n",
       "<tr><td>nan     </td><td style=\"text-align: right;\">     3</td><td style=\"text-align: right;\">  1496</td></tr>\n",
       "<tr><td>nan     </td><td style=\"text-align: right;\">     4</td><td style=\"text-align: right;\">  1555</td></tr>\n",
       "<tr><td>nan     </td><td style=\"text-align: right;\">     5</td><td style=\"text-align: right;\">  1593</td></tr>\n",
       "<tr><td>nan     </td><td style=\"text-align: right;\">     6</td><td style=\"text-align: right;\">  1909</td></tr>\n",
       "</tbody>\n",
       "</table><pre style='font-size: smaller; margin-bottom: 1em;'>[18 rows x 3 columns]</pre>"
      ],
      "text/plain": [
       "Gender      Fold    nrow\n",
       "--------  ------  ------\n",
       "Female         1   12879\n",
       "Female         2   13010\n",
       "Female         3   12708\n",
       "Female         4   12907\n",
       "Female         5   12985\n",
       "Female         6   16109\n",
       "Male           1   15833\n",
       "Male           2   15630\n",
       "Male           3   15489\n",
       "Male           4   15622\n",
       "Male           5   15480\n",
       "Male           6   19490\n",
       "nan            1    1573\n",
       "nan            2    1547\n",
       "nan            3    1496\n",
       "nan            4    1555\n",
       "nan            5    1593\n",
       "nan            6    1909\n",
       "[18 rows x 3 columns]\n"
      ]
     },
     "metadata": {},
     "output_type": "display_data"
    },
    {
     "name": "stdout",
     "output_type": "stream",
     "text": [
      "Counts of unique values by DrivAge and Fold:\n",
      "All good! All categories of the DrivAge column have at least one value for each fold.\n"
     ]
    },
    {
     "data": {
      "text/html": [
       "<table class='dataframe'>\n",
       "<thead>\n",
       "<tr><th>DrivAge  </th><th style=\"text-align: right;\">  Fold</th><th style=\"text-align: right;\">  nrow</th></tr>\n",
       "</thead>\n",
       "<tbody>\n",
       "<tr><td>18-25    </td><td style=\"text-align: right;\">     1</td><td style=\"text-align: right;\">  1869</td></tr>\n",
       "<tr><td>18-25    </td><td style=\"text-align: right;\">     2</td><td style=\"text-align: right;\">  1956</td></tr>\n",
       "<tr><td>18-25    </td><td style=\"text-align: right;\">     3</td><td style=\"text-align: right;\">  1785</td></tr>\n",
       "<tr><td>18-25    </td><td style=\"text-align: right;\">     4</td><td style=\"text-align: right;\">  1834</td></tr>\n",
       "<tr><td>18-25    </td><td style=\"text-align: right;\">     5</td><td style=\"text-align: right;\">  1839</td></tr>\n",
       "<tr><td>18-25    </td><td style=\"text-align: right;\">     6</td><td style=\"text-align: right;\">  2321</td></tr>\n",
       "<tr><td>26-35    </td><td style=\"text-align: right;\">     1</td><td style=\"text-align: right;\">  5811</td></tr>\n",
       "<tr><td>26-35    </td><td style=\"text-align: right;\">     2</td><td style=\"text-align: right;\">  5762</td></tr>\n",
       "<tr><td>26-35    </td><td style=\"text-align: right;\">     3</td><td style=\"text-align: right;\">  5797</td></tr>\n",
       "<tr><td>26-35    </td><td style=\"text-align: right;\">     4</td><td style=\"text-align: right;\">  5809</td></tr>\n",
       "<tr><td>26-35    </td><td style=\"text-align: right;\">     5</td><td style=\"text-align: right;\">  5899</td></tr>\n",
       "<tr><td>26-35    </td><td style=\"text-align: right;\">     6</td><td style=\"text-align: right;\">  7222</td></tr>\n",
       "<tr><td>36-45    </td><td style=\"text-align: right;\">     1</td><td style=\"text-align: right;\">  9053</td></tr>\n",
       "<tr><td>36-45    </td><td style=\"text-align: right;\">     2</td><td style=\"text-align: right;\">  8742</td></tr>\n",
       "<tr><td>36-45    </td><td style=\"text-align: right;\">     3</td><td style=\"text-align: right;\">  8627</td></tr>\n",
       "<tr><td>36-45    </td><td style=\"text-align: right;\">     4</td><td style=\"text-align: right;\">  8693</td></tr>\n",
       "<tr><td>36-45    </td><td style=\"text-align: right;\">     5</td><td style=\"text-align: right;\">  8757</td></tr>\n",
       "<tr><td>36-45    </td><td style=\"text-align: right;\">     6</td><td style=\"text-align: right;\"> 11005</td></tr>\n",
       "<tr><td>46-55    </td><td style=\"text-align: right;\">     1</td><td style=\"text-align: right;\">  6148</td></tr>\n",
       "<tr><td>46-55    </td><td style=\"text-align: right;\">     2</td><td style=\"text-align: right;\">  6325</td></tr>\n",
       "<tr><td>46-55    </td><td style=\"text-align: right;\">     3</td><td style=\"text-align: right;\">  6251</td></tr>\n",
       "<tr><td>46-55    </td><td style=\"text-align: right;\">     4</td><td style=\"text-align: right;\">  6337</td></tr>\n",
       "<tr><td>46-55    </td><td style=\"text-align: right;\">     5</td><td style=\"text-align: right;\">  6285</td></tr>\n",
       "<tr><td>46-55    </td><td style=\"text-align: right;\">     6</td><td style=\"text-align: right;\">  7862</td></tr>\n",
       "<tr><td>&gt;55      </td><td style=\"text-align: right;\">     1</td><td style=\"text-align: right;\">  5877</td></tr>\n",
       "<tr><td>&gt;55      </td><td style=\"text-align: right;\">     2</td><td style=\"text-align: right;\">  5883</td></tr>\n",
       "<tr><td>&gt;55      </td><td style=\"text-align: right;\">     3</td><td style=\"text-align: right;\">  5791</td></tr>\n",
       "<tr><td>&gt;55      </td><td style=\"text-align: right;\">     4</td><td style=\"text-align: right;\">  5898</td></tr>\n",
       "<tr><td>&gt;55      </td><td style=\"text-align: right;\">     5</td><td style=\"text-align: right;\">  5726</td></tr>\n",
       "<tr><td>&gt;55      </td><td style=\"text-align: right;\">     6</td><td style=\"text-align: right;\">  7248</td></tr>\n",
       "<tr><td>nan      </td><td style=\"text-align: right;\">     1</td><td style=\"text-align: right;\">  1527</td></tr>\n",
       "<tr><td>nan      </td><td style=\"text-align: right;\">     2</td><td style=\"text-align: right;\">  1519</td></tr>\n",
       "<tr><td>nan      </td><td style=\"text-align: right;\">     3</td><td style=\"text-align: right;\">  1442</td></tr>\n",
       "<tr><td>nan      </td><td style=\"text-align: right;\">     4</td><td style=\"text-align: right;\">  1513</td></tr>\n",
       "<tr><td>nan      </td><td style=\"text-align: right;\">     5</td><td style=\"text-align: right;\">  1552</td></tr>\n",
       "<tr><td>nan      </td><td style=\"text-align: right;\">     6</td><td style=\"text-align: right;\">  1850</td></tr>\n",
       "</tbody>\n",
       "</table><pre style='font-size: smaller; margin-bottom: 1em;'>[36 rows x 3 columns]</pre>"
      ],
      "text/plain": [
       "DrivAge      Fold    nrow\n",
       "---------  ------  ------\n",
       "18-25           1    1869\n",
       "18-25           2    1956\n",
       "18-25           3    1785\n",
       "18-25           4    1834\n",
       "18-25           5    1839\n",
       "18-25           6    2321\n",
       "26-35           1    5811\n",
       "26-35           2    5762\n",
       "26-35           3    5797\n",
       "26-35           4    5809\n",
       "26-35           5    5899\n",
       "26-35           6    7222\n",
       "36-45           1    9053\n",
       "36-45           2    8742\n",
       "36-45           3    8627\n",
       "36-45           4    8693\n",
       "36-45           5    8757\n",
       "36-45           6   11005\n",
       "46-55           1    6148\n",
       "46-55           2    6325\n",
       "46-55           3    6251\n",
       "46-55           4    6337\n",
       "46-55           5    6285\n",
       "46-55           6    7862\n",
       ">55             1    5877\n",
       ">55             2    5883\n",
       ">55             3    5791\n",
       ">55             4    5898\n",
       ">55             5    5726\n",
       ">55             6    7248\n",
       "nan             1    1527\n",
       "nan             2    1519\n",
       "nan             3    1442\n",
       "nan             4    1513\n",
       "nan             5    1552\n",
       "nan             6    1850\n",
       "[36 rows x 3 columns]\n"
      ]
     },
     "metadata": {},
     "output_type": "display_data"
    },
    {
     "name": "stdout",
     "output_type": "stream",
     "text": [
      "Counts of unique values by VehModel and Fold:\n",
      "That's bad! Some categories of the VehModel column do not have at least one value for each fold.\n"
     ]
    },
    {
     "data": {
      "text/html": [
       "<table class='dataframe'>\n",
       "<thead>\n",
       "<tr><th>VehModel                                   </th><th style=\"text-align: right;\">  Fold</th><th style=\"text-align: right;\">  nrow</th></tr>\n",
       "</thead>\n",
       "<tbody>\n",
       "<tr><td>Agrale - 13000 Turbo 2p (diesel)           </td><td style=\"text-align: right;\">     5</td><td style=\"text-align: right;\">     1</td></tr>\n",
       "<tr><td>Agrale - 1600 D-rs 2p (diesel)             </td><td style=\"text-align: right;\">     3</td><td style=\"text-align: right;\">     1</td></tr>\n",
       "<tr><td>Agrale - 5000 D-rd 2p (diesel)             </td><td style=\"text-align: right;\">     1</td><td style=\"text-align: right;\">     1</td></tr>\n",
       "<tr><td>Agrale - 6000 D Cs 2p (diesel)             </td><td style=\"text-align: right;\">     6</td><td style=\"text-align: right;\">     1</td></tr>\n",
       "<tr><td>Agrale - 7000 D 2p (diesel)                </td><td style=\"text-align: right;\">     1</td><td style=\"text-align: right;\">     1</td></tr>\n",
       "<tr><td>Agrale - 8500 Turbo 2p (diesel)            </td><td style=\"text-align: right;\">     3</td><td style=\"text-align: right;\">     3</td></tr>\n",
       "<tr><td>Agrale - 8500 Turbo 2p (diesel)            </td><td style=\"text-align: right;\">     5</td><td style=\"text-align: right;\">     3</td></tr>\n",
       "<tr><td>Agrale - 8500 Turbo 2p (diesel)            </td><td style=\"text-align: right;\">     6</td><td style=\"text-align: right;\">     3</td></tr>\n",
       "<tr><td>Agrale - 9200 Turbo 2p (diesel)            </td><td style=\"text-align: right;\">     1</td><td style=\"text-align: right;\">     3</td></tr>\n",
       "<tr><td>Agrale - 9200 Turbo 2p (diesel)            </td><td style=\"text-align: right;\">     2</td><td style=\"text-align: right;\">     1</td></tr>\n",
       "<tr><td>Agrale - 9200 Turbo 2p (diesel)            </td><td style=\"text-align: right;\">     4</td><td style=\"text-align: right;\">     1</td></tr>\n",
       "<tr><td>Alfa Romeo - 147 2.0 16v 148cv 4p Semi-aut.</td><td style=\"text-align: right;\">     3</td><td style=\"text-align: right;\">     1</td></tr>\n",
       "<tr><td>Alfa Romeo - 156 Ts/sport/elegant 2.0 16v  </td><td style=\"text-align: right;\">     1</td><td style=\"text-align: right;\">     2</td></tr>\n",
       "<tr><td>Alfa Romeo - 156 Ts/sport/elegant 2.0 16v  </td><td style=\"text-align: right;\">     4</td><td style=\"text-align: right;\">     2</td></tr>\n",
       "<tr><td>Alfa Romeo - 164 3.0 V6                    </td><td style=\"text-align: right;\">     6</td><td style=\"text-align: right;\">     1</td></tr>\n",
       "<tr><td>Audi - A3 1.6 3p                           </td><td style=\"text-align: right;\">     2</td><td style=\"text-align: right;\">     3</td></tr>\n",
       "<tr><td>Audi - A3 1.6 3p                           </td><td style=\"text-align: right;\">     4</td><td style=\"text-align: right;\">     2</td></tr>\n",
       "<tr><td>Audi - A3 1.6 5p                           </td><td style=\"text-align: right;\">     1</td><td style=\"text-align: right;\">     3</td></tr>\n",
       "<tr><td>Audi - A3 1.6 5p                           </td><td style=\"text-align: right;\">     2</td><td style=\"text-align: right;\">     2</td></tr>\n",
       "<tr><td>Audi - A3 1.6 5p                           </td><td style=\"text-align: right;\">     3</td><td style=\"text-align: right;\">     3</td></tr>\n",
       "<tr><td>Audi - A3 1.6 5p                           </td><td style=\"text-align: right;\">     4</td><td style=\"text-align: right;\">     3</td></tr>\n",
       "<tr><td>Audi - A3 1.6 5p                           </td><td style=\"text-align: right;\">     6</td><td style=\"text-align: right;\">     3</td></tr>\n",
       "<tr><td>Audi - A3 1.6 5p Aut                       </td><td style=\"text-align: right;\">     6</td><td style=\"text-align: right;\">     1</td></tr>\n",
       "<tr><td>Audi - A3 1.6 8v 102cv 3p                  </td><td style=\"text-align: right;\">     4</td><td style=\"text-align: right;\">     1</td></tr>\n",
       "<tr><td>Audi - A3 1.6 8v 102cv 3p                  </td><td style=\"text-align: right;\">     5</td><td style=\"text-align: right;\">     1</td></tr>\n",
       "<tr><td>Audi - A3 1.8 3p                           </td><td style=\"text-align: right;\">     1</td><td style=\"text-align: right;\">     1</td></tr>\n",
       "<tr><td>Audi - A3 1.8 3p                           </td><td style=\"text-align: right;\">     2</td><td style=\"text-align: right;\">     2</td></tr>\n",
       "<tr><td>Audi - A3 1.8 3p                           </td><td style=\"text-align: right;\">     3</td><td style=\"text-align: right;\">     1</td></tr>\n",
       "<tr><td>Audi - A3 1.8 3p                           </td><td style=\"text-align: right;\">     4</td><td style=\"text-align: right;\">     2</td></tr>\n",
       "<tr><td>Audi - A3 1.8 3p                           </td><td style=\"text-align: right;\">     5</td><td style=\"text-align: right;\">     3</td></tr>\n",
       "<tr><td>Audi - A3 1.8 3p                           </td><td style=\"text-align: right;\">     6</td><td style=\"text-align: right;\">     2</td></tr>\n",
       "<tr><td>Audi - A3 1.8 3p Aut.                      </td><td style=\"text-align: right;\">     5</td><td style=\"text-align: right;\">     1</td></tr>\n",
       "<tr><td>Audi - A3 1.8 3p Aut.                      </td><td style=\"text-align: right;\">     6</td><td style=\"text-align: right;\">     1</td></tr>\n",
       "<tr><td>Audi - A3 1.8 5p Aut.                      </td><td style=\"text-align: right;\">     1</td><td style=\"text-align: right;\">     4</td></tr>\n",
       "<tr><td>Audi - A3 1.8 5p Aut.                      </td><td style=\"text-align: right;\">     2</td><td style=\"text-align: right;\">     7</td></tr>\n",
       "<tr><td>Audi - A3 1.8 5p Aut.                      </td><td style=\"text-align: right;\">     3</td><td style=\"text-align: right;\">     3</td></tr>\n",
       "<tr><td>Audi - A3 1.8 5p Aut.                      </td><td style=\"text-align: right;\">     4</td><td style=\"text-align: right;\">     2</td></tr>\n",
       "<tr><td>Audi - A3 1.8 5p Aut.                      </td><td style=\"text-align: right;\">     5</td><td style=\"text-align: right;\">     3</td></tr>\n",
       "<tr><td>Audi - A3 1.8 5p Aut.                      </td><td style=\"text-align: right;\">     6</td><td style=\"text-align: right;\">     3</td></tr>\n",
       "<tr><td>Audi - A3 1.8 5p Mec.                      </td><td style=\"text-align: right;\">     1</td><td style=\"text-align: right;\">     3</td></tr>\n",
       "<tr><td>Audi - A3 1.8 5p Mec.                      </td><td style=\"text-align: right;\">     2</td><td style=\"text-align: right;\">     7</td></tr>\n",
       "<tr><td>Audi - A3 1.8 5p Mec.                      </td><td style=\"text-align: right;\">     3</td><td style=\"text-align: right;\">     3</td></tr>\n",
       "<tr><td>Audi - A3 1.8 5p Mec.                      </td><td style=\"text-align: right;\">     4</td><td style=\"text-align: right;\">    11</td></tr>\n",
       "<tr><td>Audi - A3 1.8 5p Mec.                      </td><td style=\"text-align: right;\">     5</td><td style=\"text-align: right;\">     4</td></tr>\n",
       "<tr><td>Audi - A3 1.8 5p Mec.                      </td><td style=\"text-align: right;\">     6</td><td style=\"text-align: right;\">    12</td></tr>\n",
       "<tr><td>Audi - A3 1.8 Turbo 180cv 3p Aut./ Tip.    </td><td style=\"text-align: right;\">     1</td><td style=\"text-align: right;\">     1</td></tr>\n",
       "<tr><td>Audi - A3 1.8 Turbo 180cv 5p Aut./ Tip.    </td><td style=\"text-align: right;\">     1</td><td style=\"text-align: right;\">     1</td></tr>\n",
       "<tr><td>Audi - A3 1.8 Turbo 180cv 5p Aut./ Tip.    </td><td style=\"text-align: right;\">     2</td><td style=\"text-align: right;\">     3</td></tr>\n",
       "<tr><td>Audi - A3 1.8 Turbo 180cv 5p Aut./ Tip.    </td><td style=\"text-align: right;\">     3</td><td style=\"text-align: right;\">     3</td></tr>\n",
       "<tr><td>Audi - A3 1.8 Turbo 180cv 5p Aut./ Tip.    </td><td style=\"text-align: right;\">     4</td><td style=\"text-align: right;\">     1</td></tr>\n",
       "</tbody>\n",
       "</table><pre style='font-size: smaller; margin-bottom: 1em;'>[50 rows x 3 columns]</pre>"
      ],
      "text/plain": [
       "VehModel                                       Fold    nrow\n",
       "-------------------------------------------  ------  ------\n",
       "Agrale - 13000 Turbo 2p (diesel)                  5       1\n",
       "Agrale - 1600 D-rs 2p (diesel)                    3       1\n",
       "Agrale - 5000 D-rd 2p (diesel)                    1       1\n",
       "Agrale - 6000 D Cs 2p (diesel)                    6       1\n",
       "Agrale - 7000 D 2p (diesel)                       1       1\n",
       "Agrale - 8500 Turbo 2p (diesel)                   3       3\n",
       "Agrale - 8500 Turbo 2p (diesel)                   5       3\n",
       "Agrale - 8500 Turbo 2p (diesel)                   6       3\n",
       "Agrale - 9200 Turbo 2p (diesel)                   1       3\n",
       "Agrale - 9200 Turbo 2p (diesel)                   2       1\n",
       "Agrale - 9200 Turbo 2p (diesel)                   4       1\n",
       "Alfa Romeo - 147 2.0 16v 148cv 4p Semi-aut.       3       1\n",
       "Alfa Romeo - 156 Ts/sport/elegant 2.0 16v         1       2\n",
       "Alfa Romeo - 156 Ts/sport/elegant 2.0 16v         4       2\n",
       "Alfa Romeo - 164 3.0 V6                           6       1\n",
       "Audi - A3 1.6 3p                                  2       3\n",
       "Audi - A3 1.6 3p                                  4       2\n",
       "Audi - A3 1.6 5p                                  1       3\n",
       "Audi - A3 1.6 5p                                  2       2\n",
       "Audi - A3 1.6 5p                                  3       3\n",
       "Audi - A3 1.6 5p                                  4       3\n",
       "Audi - A3 1.6 5p                                  6       3\n",
       "Audi - A3 1.6 5p Aut                              6       1\n",
       "Audi - A3 1.6 8v 102cv 3p                         4       1\n",
       "Audi - A3 1.6 8v 102cv 3p                         5       1\n",
       "Audi - A3 1.8 3p                                  1       1\n",
       "Audi - A3 1.8 3p                                  2       2\n",
       "Audi - A3 1.8 3p                                  3       1\n",
       "Audi - A3 1.8 3p                                  4       2\n",
       "Audi - A3 1.8 3p                                  5       3\n",
       "Audi - A3 1.8 3p                                  6       2\n",
       "Audi - A3 1.8 3p Aut.                             5       1\n",
       "Audi - A3 1.8 3p Aut.                             6       1\n",
       "Audi - A3 1.8 5p Aut.                             1       4\n",
       "Audi - A3 1.8 5p Aut.                             2       7\n",
       "Audi - A3 1.8 5p Aut.                             3       3\n",
       "Audi - A3 1.8 5p Aut.                             4       2\n",
       "Audi - A3 1.8 5p Aut.                             5       3\n",
       "Audi - A3 1.8 5p Aut.                             6       3\n",
       "Audi - A3 1.8 5p Mec.                             1       3\n",
       "Audi - A3 1.8 5p Mec.                             2       7\n",
       "Audi - A3 1.8 5p Mec.                             3       3\n",
       "Audi - A3 1.8 5p Mec.                             4      11\n",
       "Audi - A3 1.8 5p Mec.                             5       4\n",
       "Audi - A3 1.8 5p Mec.                             6      12\n",
       "Audi - A3 1.8 Turbo 180cv 3p Aut./ Tip.           1       1\n",
       "Audi - A3 1.8 Turbo 180cv 5p Aut./ Tip.           1       1\n",
       "Audi - A3 1.8 Turbo 180cv 5p Aut./ Tip.           2       3\n",
       "Audi - A3 1.8 Turbo 180cv 5p Aut./ Tip.           3       3\n",
       "Audi - A3 1.8 Turbo 180cv 5p Aut./ Tip.           4       1\n",
       "[50 rows x 3 columns]\n"
      ]
     },
     "metadata": {},
     "output_type": "display_data"
    },
    {
     "name": "stdout",
     "output_type": "stream",
     "text": [
      "Counts of unique values by VehGroup and Fold:\n",
      "That's bad! Some categories of the VehGroup column do not have at least one value for each fold.\n"
     ]
    },
    {
     "data": {
      "text/html": [
       "<table class='dataframe'>\n",
       "<thead>\n",
       "<tr><th>VehGroup                </th><th style=\"text-align: right;\">  Fold</th><th style=\"text-align: right;\">  nrow</th></tr>\n",
       "</thead>\n",
       "<tbody>\n",
       "<tr><td>Agrale Caminhoes - Todos</td><td style=\"text-align: right;\">     1</td><td style=\"text-align: right;\">     5</td></tr>\n",
       "<tr><td>Agrale Caminhoes - Todos</td><td style=\"text-align: right;\">     2</td><td style=\"text-align: right;\">     1</td></tr>\n",
       "<tr><td>Agrale Caminhoes - Todos</td><td style=\"text-align: right;\">     3</td><td style=\"text-align: right;\">     4</td></tr>\n",
       "<tr><td>Agrale Caminhoes - Todos</td><td style=\"text-align: right;\">     4</td><td style=\"text-align: right;\">     1</td></tr>\n",
       "<tr><td>Agrale Caminhoes - Todos</td><td style=\"text-align: right;\">     5</td><td style=\"text-align: right;\">     4</td></tr>\n",
       "<tr><td>Agrale Caminhoes - Todos</td><td style=\"text-align: right;\">     6</td><td style=\"text-align: right;\">     4</td></tr>\n",
       "<tr><td>Alfa Romeo 147          </td><td style=\"text-align: right;\">     3</td><td style=\"text-align: right;\">     1</td></tr>\n",
       "<tr><td>Alfa Romeo 156          </td><td style=\"text-align: right;\">     1</td><td style=\"text-align: right;\">     2</td></tr>\n",
       "<tr><td>Alfa Romeo 156          </td><td style=\"text-align: right;\">     4</td><td style=\"text-align: right;\">     2</td></tr>\n",
       "<tr><td>Alfa Romeo 164          </td><td style=\"text-align: right;\">     6</td><td style=\"text-align: right;\">     1</td></tr>\n",
       "<tr><td>Audi A3                 </td><td style=\"text-align: right;\">     1</td><td style=\"text-align: right;\">    26</td></tr>\n",
       "<tr><td>Audi A3                 </td><td style=\"text-align: right;\">     2</td><td style=\"text-align: right;\">    40</td></tr>\n",
       "<tr><td>Audi A3                 </td><td style=\"text-align: right;\">     3</td><td style=\"text-align: right;\">    29</td></tr>\n",
       "<tr><td>Audi A3                 </td><td style=\"text-align: right;\">     4</td><td style=\"text-align: right;\">    41</td></tr>\n",
       "<tr><td>Audi A3                 </td><td style=\"text-align: right;\">     5</td><td style=\"text-align: right;\">    27</td></tr>\n",
       "<tr><td>Audi A3                 </td><td style=\"text-align: right;\">     6</td><td style=\"text-align: right;\">    51</td></tr>\n",
       "<tr><td>Audi A4                 </td><td style=\"text-align: right;\">     1</td><td style=\"text-align: right;\">     7</td></tr>\n",
       "<tr><td>Audi A4                 </td><td style=\"text-align: right;\">     2</td><td style=\"text-align: right;\">     3</td></tr>\n",
       "<tr><td>Audi A4                 </td><td style=\"text-align: right;\">     3</td><td style=\"text-align: right;\">     6</td></tr>\n",
       "<tr><td>Audi A4                 </td><td style=\"text-align: right;\">     4</td><td style=\"text-align: right;\">     3</td></tr>\n",
       "<tr><td>Audi A4                 </td><td style=\"text-align: right;\">     5</td><td style=\"text-align: right;\">     2</td></tr>\n",
       "<tr><td>Audi A4                 </td><td style=\"text-align: right;\">     6</td><td style=\"text-align: right;\">     6</td></tr>\n",
       "<tr><td>Audi A5                 </td><td style=\"text-align: right;\">     6</td><td style=\"text-align: right;\">     1</td></tr>\n",
       "<tr><td>Audi A6                 </td><td style=\"text-align: right;\">     2</td><td style=\"text-align: right;\">     2</td></tr>\n",
       "<tr><td>Audi A6                 </td><td style=\"text-align: right;\">     4</td><td style=\"text-align: right;\">     4</td></tr>\n",
       "<tr><td>Audi A6                 </td><td style=\"text-align: right;\">     5</td><td style=\"text-align: right;\">     2</td></tr>\n",
       "<tr><td>Audi A6                 </td><td style=\"text-align: right;\">     6</td><td style=\"text-align: right;\">     1</td></tr>\n",
       "<tr><td>Audi A8                 </td><td style=\"text-align: right;\">     4</td><td style=\"text-align: right;\">     1</td></tr>\n",
       "<tr><td>Audi Q7                 </td><td style=\"text-align: right;\">     1</td><td style=\"text-align: right;\">     2</td></tr>\n",
       "<tr><td>Audi Q7                 </td><td style=\"text-align: right;\">     2</td><td style=\"text-align: right;\">     1</td></tr>\n",
       "<tr><td>Audi Q7                 </td><td style=\"text-align: right;\">     4</td><td style=\"text-align: right;\">     4</td></tr>\n",
       "<tr><td>Audi Q7                 </td><td style=\"text-align: right;\">     5</td><td style=\"text-align: right;\">     1</td></tr>\n",
       "<tr><td>Audi Rs6                </td><td style=\"text-align: right;\">     3</td><td style=\"text-align: right;\">     1</td></tr>\n",
       "<tr><td>Audi Tt                 </td><td style=\"text-align: right;\">     2</td><td style=\"text-align: right;\">     1</td></tr>\n",
       "<tr><td>Audi Tt                 </td><td style=\"text-align: right;\">     3</td><td style=\"text-align: right;\">     1</td></tr>\n",
       "<tr><td>Audi Tt                 </td><td style=\"text-align: right;\">     4</td><td style=\"text-align: right;\">     1</td></tr>\n",
       "<tr><td>Audi Tt                 </td><td style=\"text-align: right;\">     5</td><td style=\"text-align: right;\">     1</td></tr>\n",
       "<tr><td>Audi Tt                 </td><td style=\"text-align: right;\">     6</td><td style=\"text-align: right;\">     1</td></tr>\n",
       "<tr><td>Bmw - Todos             </td><td style=\"text-align: right;\">     1</td><td style=\"text-align: right;\">    45</td></tr>\n",
       "<tr><td>Bmw - Todos             </td><td style=\"text-align: right;\">     2</td><td style=\"text-align: right;\">    47</td></tr>\n",
       "<tr><td>Bmw - Todos             </td><td style=\"text-align: right;\">     3</td><td style=\"text-align: right;\">    55</td></tr>\n",
       "<tr><td>Bmw - Todos             </td><td style=\"text-align: right;\">     4</td><td style=\"text-align: right;\">    55</td></tr>\n",
       "<tr><td>Bmw - Todos             </td><td style=\"text-align: right;\">     5</td><td style=\"text-align: right;\">    43</td></tr>\n",
       "<tr><td>Bmw - Todos             </td><td style=\"text-align: right;\">     6</td><td style=\"text-align: right;\">    44</td></tr>\n",
       "<tr><td>Bmw Motos Acima De 450cc</td><td style=\"text-align: right;\">     1</td><td style=\"text-align: right;\">     6</td></tr>\n",
       "<tr><td>Bmw Motos Acima De 450cc</td><td style=\"text-align: right;\">     2</td><td style=\"text-align: right;\">     6</td></tr>\n",
       "<tr><td>Bmw Motos Acima De 450cc</td><td style=\"text-align: right;\">     3</td><td style=\"text-align: right;\">     6</td></tr>\n",
       "<tr><td>Bmw Motos Acima De 450cc</td><td style=\"text-align: right;\">     4</td><td style=\"text-align: right;\">     5</td></tr>\n",
       "<tr><td>Bmw Motos Acima De 450cc</td><td style=\"text-align: right;\">     5</td><td style=\"text-align: right;\">     1</td></tr>\n",
       "<tr><td>Bmw Motos Acima De 450cc</td><td style=\"text-align: right;\">     6</td><td style=\"text-align: right;\">     8</td></tr>\n",
       "</tbody>\n",
       "</table><pre style='font-size: smaller; margin-bottom: 1em;'>[50 rows x 3 columns]</pre>"
      ],
      "text/plain": [
       "VehGroup                    Fold    nrow\n",
       "------------------------  ------  ------\n",
       "Agrale Caminhoes - Todos       1       5\n",
       "Agrale Caminhoes - Todos       2       1\n",
       "Agrale Caminhoes - Todos       3       4\n",
       "Agrale Caminhoes - Todos       4       1\n",
       "Agrale Caminhoes - Todos       5       4\n",
       "Agrale Caminhoes - Todos       6       4\n",
       "Alfa Romeo 147                 3       1\n",
       "Alfa Romeo 156                 1       2\n",
       "Alfa Romeo 156                 4       2\n",
       "Alfa Romeo 164                 6       1\n",
       "Audi A3                        1      26\n",
       "Audi A3                        2      40\n",
       "Audi A3                        3      29\n",
       "Audi A3                        4      41\n",
       "Audi A3                        5      27\n",
       "Audi A3                        6      51\n",
       "Audi A4                        1       7\n",
       "Audi A4                        2       3\n",
       "Audi A4                        3       6\n",
       "Audi A4                        4       3\n",
       "Audi A4                        5       2\n",
       "Audi A4                        6       6\n",
       "Audi A5                        6       1\n",
       "Audi A6                        2       2\n",
       "Audi A6                        4       4\n",
       "Audi A6                        5       2\n",
       "Audi A6                        6       1\n",
       "Audi A8                        4       1\n",
       "Audi Q7                        1       2\n",
       "Audi Q7                        2       1\n",
       "Audi Q7                        4       4\n",
       "Audi Q7                        5       1\n",
       "Audi Rs6                       3       1\n",
       "Audi Tt                        2       1\n",
       "Audi Tt                        3       1\n",
       "Audi Tt                        4       1\n",
       "Audi Tt                        5       1\n",
       "Audi Tt                        6       1\n",
       "Bmw - Todos                    1      45\n",
       "Bmw - Todos                    2      47\n",
       "Bmw - Todos                    3      55\n",
       "Bmw - Todos                    4      55\n",
       "Bmw - Todos                    5      43\n",
       "Bmw - Todos                    6      44\n",
       "Bmw Motos Acima De 450cc       1       6\n",
       "Bmw Motos Acima De 450cc       2       6\n",
       "Bmw Motos Acima De 450cc       3       6\n",
       "Bmw Motos Acima De 450cc       4       5\n",
       "Bmw Motos Acima De 450cc       5       1\n",
       "Bmw Motos Acima De 450cc       6       8\n",
       "[50 rows x 3 columns]\n"
      ]
     },
     "metadata": {},
     "output_type": "display_data"
    },
    {
     "name": "stdout",
     "output_type": "stream",
     "text": [
      "Counts of unique values by Area and Fold:\n",
      "All good! All categories of the Area column have at least one value for each fold.\n"
     ]
    },
    {
     "data": {
      "text/html": [
       "<table class='dataframe'>\n",
       "<thead>\n",
       "<tr><th>Area                     </th><th style=\"text-align: right;\">  Fold</th><th style=\"text-align: right;\">  nrow</th></tr>\n",
       "</thead>\n",
       "<tbody>\n",
       "<tr><td>Acre                     </td><td style=\"text-align: right;\">     1</td><td style=\"text-align: right;\">    60</td></tr>\n",
       "<tr><td>Acre                     </td><td style=\"text-align: right;\">     2</td><td style=\"text-align: right;\">    80</td></tr>\n",
       "<tr><td>Acre                     </td><td style=\"text-align: right;\">     3</td><td style=\"text-align: right;\">    53</td></tr>\n",
       "<tr><td>Acre                     </td><td style=\"text-align: right;\">     4</td><td style=\"text-align: right;\">    69</td></tr>\n",
       "<tr><td>Acre                     </td><td style=\"text-align: right;\">     5</td><td style=\"text-align: right;\">    57</td></tr>\n",
       "<tr><td>Acre                     </td><td style=\"text-align: right;\">     6</td><td style=\"text-align: right;\">    89</td></tr>\n",
       "<tr><td>Alagoas                  </td><td style=\"text-align: right;\">     1</td><td style=\"text-align: right;\">   294</td></tr>\n",
       "<tr><td>Alagoas                  </td><td style=\"text-align: right;\">     2</td><td style=\"text-align: right;\">   300</td></tr>\n",
       "<tr><td>Alagoas                  </td><td style=\"text-align: right;\">     3</td><td style=\"text-align: right;\">   265</td></tr>\n",
       "<tr><td>Alagoas                  </td><td style=\"text-align: right;\">     4</td><td style=\"text-align: right;\">   299</td></tr>\n",
       "<tr><td>Alagoas                  </td><td style=\"text-align: right;\">     5</td><td style=\"text-align: right;\">   277</td></tr>\n",
       "<tr><td>Alagoas                  </td><td style=\"text-align: right;\">     6</td><td style=\"text-align: right;\">   395</td></tr>\n",
       "<tr><td>Amapa                    </td><td style=\"text-align: right;\">     1</td><td style=\"text-align: right;\">    48</td></tr>\n",
       "<tr><td>Amapa                    </td><td style=\"text-align: right;\">     2</td><td style=\"text-align: right;\">    41</td></tr>\n",
       "<tr><td>Amapa                    </td><td style=\"text-align: right;\">     3</td><td style=\"text-align: right;\">    48</td></tr>\n",
       "<tr><td>Amapa                    </td><td style=\"text-align: right;\">     4</td><td style=\"text-align: right;\">    45</td></tr>\n",
       "<tr><td>Amapa                    </td><td style=\"text-align: right;\">     5</td><td style=\"text-align: right;\">    42</td></tr>\n",
       "<tr><td>Amapa                    </td><td style=\"text-align: right;\">     6</td><td style=\"text-align: right;\">    45</td></tr>\n",
       "<tr><td>Amazonas                 </td><td style=\"text-align: right;\">     1</td><td style=\"text-align: right;\">   203</td></tr>\n",
       "<tr><td>Amazonas                 </td><td style=\"text-align: right;\">     2</td><td style=\"text-align: right;\">   235</td></tr>\n",
       "<tr><td>Amazonas                 </td><td style=\"text-align: right;\">     3</td><td style=\"text-align: right;\">   217</td></tr>\n",
       "<tr><td>Amazonas                 </td><td style=\"text-align: right;\">     4</td><td style=\"text-align: right;\">   212</td></tr>\n",
       "<tr><td>Amazonas                 </td><td style=\"text-align: right;\">     5</td><td style=\"text-align: right;\">   231</td></tr>\n",
       "<tr><td>Amazonas                 </td><td style=\"text-align: right;\">     6</td><td style=\"text-align: right;\">   273</td></tr>\n",
       "<tr><td>Bahia                    </td><td style=\"text-align: right;\">     1</td><td style=\"text-align: right;\">   927</td></tr>\n",
       "<tr><td>Bahia                    </td><td style=\"text-align: right;\">     2</td><td style=\"text-align: right;\">   938</td></tr>\n",
       "<tr><td>Bahia                    </td><td style=\"text-align: right;\">     3</td><td style=\"text-align: right;\">   939</td></tr>\n",
       "<tr><td>Bahia                    </td><td style=\"text-align: right;\">     4</td><td style=\"text-align: right;\">   905</td></tr>\n",
       "<tr><td>Bahia                    </td><td style=\"text-align: right;\">     5</td><td style=\"text-align: right;\">   944</td></tr>\n",
       "<tr><td>Bahia                    </td><td style=\"text-align: right;\">     6</td><td style=\"text-align: right;\">  1190</td></tr>\n",
       "<tr><td>Blumenau e demais regioes</td><td style=\"text-align: right;\">     1</td><td style=\"text-align: right;\">  1022</td></tr>\n",
       "<tr><td>Blumenau e demais regioes</td><td style=\"text-align: right;\">     2</td><td style=\"text-align: right;\">  1029</td></tr>\n",
       "<tr><td>Blumenau e demais regioes</td><td style=\"text-align: right;\">     3</td><td style=\"text-align: right;\">   980</td></tr>\n",
       "<tr><td>Blumenau e demais regioes</td><td style=\"text-align: right;\">     4</td><td style=\"text-align: right;\">  1019</td></tr>\n",
       "<tr><td>Blumenau e demais regioes</td><td style=\"text-align: right;\">     5</td><td style=\"text-align: right;\">  1001</td></tr>\n",
       "<tr><td>Blumenau e demais regioes</td><td style=\"text-align: right;\">     6</td><td style=\"text-align: right;\">  1238</td></tr>\n",
       "<tr><td>Brasilia                 </td><td style=\"text-align: right;\">     1</td><td style=\"text-align: right;\">  1121</td></tr>\n",
       "<tr><td>Brasilia                 </td><td style=\"text-align: right;\">     2</td><td style=\"text-align: right;\">  1157</td></tr>\n",
       "<tr><td>Brasilia                 </td><td style=\"text-align: right;\">     3</td><td style=\"text-align: right;\">  1115</td></tr>\n",
       "<tr><td>Brasilia                 </td><td style=\"text-align: right;\">     4</td><td style=\"text-align: right;\">  1125</td></tr>\n",
       "<tr><td>Brasilia                 </td><td style=\"text-align: right;\">     5</td><td style=\"text-align: right;\">  1154</td></tr>\n",
       "<tr><td>Brasilia                 </td><td style=\"text-align: right;\">     6</td><td style=\"text-align: right;\">  1461</td></tr>\n",
       "<tr><td>Ceara                    </td><td style=\"text-align: right;\">     1</td><td style=\"text-align: right;\">   654</td></tr>\n",
       "<tr><td>Ceara                    </td><td style=\"text-align: right;\">     2</td><td style=\"text-align: right;\">   609</td></tr>\n",
       "<tr><td>Ceara                    </td><td style=\"text-align: right;\">     3</td><td style=\"text-align: right;\">   583</td></tr>\n",
       "<tr><td>Ceara                    </td><td style=\"text-align: right;\">     4</td><td style=\"text-align: right;\">   613</td></tr>\n",
       "<tr><td>Ceara                    </td><td style=\"text-align: right;\">     5</td><td style=\"text-align: right;\">   670</td></tr>\n",
       "<tr><td>Ceara                    </td><td style=\"text-align: right;\">     6</td><td style=\"text-align: right;\">   785</td></tr>\n",
       "<tr><td>Demais regioes           </td><td style=\"text-align: right;\">     1</td><td style=\"text-align: right;\">  2174</td></tr>\n",
       "<tr><td>Demais regioes           </td><td style=\"text-align: right;\">     2</td><td style=\"text-align: right;\">  2130</td></tr>\n",
       "</tbody>\n",
       "</table><pre style='font-size: smaller; margin-bottom: 1em;'>[50 rows x 3 columns]</pre>"
      ],
      "text/plain": [
       "Area                         Fold    nrow\n",
       "-------------------------  ------  ------\n",
       "Acre                            1      60\n",
       "Acre                            2      80\n",
       "Acre                            3      53\n",
       "Acre                            4      69\n",
       "Acre                            5      57\n",
       "Acre                            6      89\n",
       "Alagoas                         1     294\n",
       "Alagoas                         2     300\n",
       "Alagoas                         3     265\n",
       "Alagoas                         4     299\n",
       "Alagoas                         5     277\n",
       "Alagoas                         6     395\n",
       "Amapa                           1      48\n",
       "Amapa                           2      41\n",
       "Amapa                           3      48\n",
       "Amapa                           4      45\n",
       "Amapa                           5      42\n",
       "Amapa                           6      45\n",
       "Amazonas                        1     203\n",
       "Amazonas                        2     235\n",
       "Amazonas                        3     217\n",
       "Amazonas                        4     212\n",
       "Amazonas                        5     231\n",
       "Amazonas                        6     273\n",
       "Bahia                           1     927\n",
       "Bahia                           2     938\n",
       "Bahia                           3     939\n",
       "Bahia                           4     905\n",
       "Bahia                           5     944\n",
       "Bahia                           6    1190\n",
       "Blumenau e demais regioes       1    1022\n",
       "Blumenau e demais regioes       2    1029\n",
       "Blumenau e demais regioes       3     980\n",
       "Blumenau e demais regioes       4    1019\n",
       "Blumenau e demais regioes       5    1001\n",
       "Blumenau e demais regioes       6    1238\n",
       "Brasilia                        1    1121\n",
       "Brasilia                        2    1157\n",
       "Brasilia                        3    1115\n",
       "Brasilia                        4    1125\n",
       "Brasilia                        5    1154\n",
       "Brasilia                        6    1461\n",
       "Ceara                           1     654\n",
       "Ceara                           2     609\n",
       "Ceara                           3     583\n",
       "Ceara                           4     613\n",
       "Ceara                           5     670\n",
       "Ceara                           6     785\n",
       "Demais regioes                  1    2174\n",
       "Demais regioes                  2    2130\n",
       "[50 rows x 3 columns]\n"
      ]
     },
     "metadata": {},
     "output_type": "display_data"
    },
    {
     "name": "stdout",
     "output_type": "stream",
     "text": [
      "Counts of unique values by State and Fold:\n",
      "All good! All categories of the State column have at least one value for each fold.\n"
     ]
    },
    {
     "data": {
      "text/html": [
       "<table class='dataframe'>\n",
       "<thead>\n",
       "<tr><th>State           </th><th style=\"text-align: right;\">  Fold</th><th style=\"text-align: right;\">  nrow</th></tr>\n",
       "</thead>\n",
       "<tbody>\n",
       "<tr><td>Acre            </td><td style=\"text-align: right;\">     1</td><td style=\"text-align: right;\">    60</td></tr>\n",
       "<tr><td>Acre            </td><td style=\"text-align: right;\">     2</td><td style=\"text-align: right;\">    80</td></tr>\n",
       "<tr><td>Acre            </td><td style=\"text-align: right;\">     3</td><td style=\"text-align: right;\">    53</td></tr>\n",
       "<tr><td>Acre            </td><td style=\"text-align: right;\">     4</td><td style=\"text-align: right;\">    69</td></tr>\n",
       "<tr><td>Acre            </td><td style=\"text-align: right;\">     5</td><td style=\"text-align: right;\">    57</td></tr>\n",
       "<tr><td>Acre            </td><td style=\"text-align: right;\">     6</td><td style=\"text-align: right;\">    89</td></tr>\n",
       "<tr><td>Alagoas         </td><td style=\"text-align: right;\">     1</td><td style=\"text-align: right;\">   294</td></tr>\n",
       "<tr><td>Alagoas         </td><td style=\"text-align: right;\">     2</td><td style=\"text-align: right;\">   300</td></tr>\n",
       "<tr><td>Alagoas         </td><td style=\"text-align: right;\">     3</td><td style=\"text-align: right;\">   265</td></tr>\n",
       "<tr><td>Alagoas         </td><td style=\"text-align: right;\">     4</td><td style=\"text-align: right;\">   299</td></tr>\n",
       "<tr><td>Alagoas         </td><td style=\"text-align: right;\">     5</td><td style=\"text-align: right;\">   277</td></tr>\n",
       "<tr><td>Alagoas         </td><td style=\"text-align: right;\">     6</td><td style=\"text-align: right;\">   395</td></tr>\n",
       "<tr><td>Amapa           </td><td style=\"text-align: right;\">     1</td><td style=\"text-align: right;\">    48</td></tr>\n",
       "<tr><td>Amapa           </td><td style=\"text-align: right;\">     2</td><td style=\"text-align: right;\">    41</td></tr>\n",
       "<tr><td>Amapa           </td><td style=\"text-align: right;\">     3</td><td style=\"text-align: right;\">    48</td></tr>\n",
       "<tr><td>Amapa           </td><td style=\"text-align: right;\">     4</td><td style=\"text-align: right;\">    45</td></tr>\n",
       "<tr><td>Amapa           </td><td style=\"text-align: right;\">     5</td><td style=\"text-align: right;\">    42</td></tr>\n",
       "<tr><td>Amapa           </td><td style=\"text-align: right;\">     6</td><td style=\"text-align: right;\">    45</td></tr>\n",
       "<tr><td>Amazonas        </td><td style=\"text-align: right;\">     1</td><td style=\"text-align: right;\">   203</td></tr>\n",
       "<tr><td>Amazonas        </td><td style=\"text-align: right;\">     2</td><td style=\"text-align: right;\">   235</td></tr>\n",
       "<tr><td>Amazonas        </td><td style=\"text-align: right;\">     3</td><td style=\"text-align: right;\">   217</td></tr>\n",
       "<tr><td>Amazonas        </td><td style=\"text-align: right;\">     4</td><td style=\"text-align: right;\">   212</td></tr>\n",
       "<tr><td>Amazonas        </td><td style=\"text-align: right;\">     5</td><td style=\"text-align: right;\">   231</td></tr>\n",
       "<tr><td>Amazonas        </td><td style=\"text-align: right;\">     6</td><td style=\"text-align: right;\">   273</td></tr>\n",
       "<tr><td>Bahia           </td><td style=\"text-align: right;\">     1</td><td style=\"text-align: right;\">   927</td></tr>\n",
       "<tr><td>Bahia           </td><td style=\"text-align: right;\">     2</td><td style=\"text-align: right;\">   938</td></tr>\n",
       "<tr><td>Bahia           </td><td style=\"text-align: right;\">     3</td><td style=\"text-align: right;\">   939</td></tr>\n",
       "<tr><td>Bahia           </td><td style=\"text-align: right;\">     4</td><td style=\"text-align: right;\">   905</td></tr>\n",
       "<tr><td>Bahia           </td><td style=\"text-align: right;\">     5</td><td style=\"text-align: right;\">   944</td></tr>\n",
       "<tr><td>Bahia           </td><td style=\"text-align: right;\">     6</td><td style=\"text-align: right;\">  1190</td></tr>\n",
       "<tr><td>Ceara           </td><td style=\"text-align: right;\">     1</td><td style=\"text-align: right;\">   654</td></tr>\n",
       "<tr><td>Ceara           </td><td style=\"text-align: right;\">     2</td><td style=\"text-align: right;\">   609</td></tr>\n",
       "<tr><td>Ceara           </td><td style=\"text-align: right;\">     3</td><td style=\"text-align: right;\">   583</td></tr>\n",
       "<tr><td>Ceara           </td><td style=\"text-align: right;\">     4</td><td style=\"text-align: right;\">   613</td></tr>\n",
       "<tr><td>Ceara           </td><td style=\"text-align: right;\">     5</td><td style=\"text-align: right;\">   670</td></tr>\n",
       "<tr><td>Ceara           </td><td style=\"text-align: right;\">     6</td><td style=\"text-align: right;\">   785</td></tr>\n",
       "<tr><td>Distrito Federal</td><td style=\"text-align: right;\">     1</td><td style=\"text-align: right;\">  1121</td></tr>\n",
       "<tr><td>Distrito Federal</td><td style=\"text-align: right;\">     2</td><td style=\"text-align: right;\">  1157</td></tr>\n",
       "<tr><td>Distrito Federal</td><td style=\"text-align: right;\">     3</td><td style=\"text-align: right;\">  1115</td></tr>\n",
       "<tr><td>Distrito Federal</td><td style=\"text-align: right;\">     4</td><td style=\"text-align: right;\">  1125</td></tr>\n",
       "<tr><td>Distrito Federal</td><td style=\"text-align: right;\">     5</td><td style=\"text-align: right;\">  1154</td></tr>\n",
       "<tr><td>Distrito Federal</td><td style=\"text-align: right;\">     6</td><td style=\"text-align: right;\">  1461</td></tr>\n",
       "<tr><td>Esperito Santo  </td><td style=\"text-align: right;\">     1</td><td style=\"text-align: right;\">   627</td></tr>\n",
       "<tr><td>Esperito Santo  </td><td style=\"text-align: right;\">     2</td><td style=\"text-align: right;\">   656</td></tr>\n",
       "<tr><td>Esperito Santo  </td><td style=\"text-align: right;\">     3</td><td style=\"text-align: right;\">   682</td></tr>\n",
       "<tr><td>Esperito Santo  </td><td style=\"text-align: right;\">     4</td><td style=\"text-align: right;\">   633</td></tr>\n",
       "<tr><td>Esperito Santo  </td><td style=\"text-align: right;\">     5</td><td style=\"text-align: right;\">   682</td></tr>\n",
       "<tr><td>Esperito Santo  </td><td style=\"text-align: right;\">     6</td><td style=\"text-align: right;\">   831</td></tr>\n",
       "<tr><td>Goias           </td><td style=\"text-align: right;\">     1</td><td style=\"text-align: right;\">  1222</td></tr>\n",
       "<tr><td>Goias           </td><td style=\"text-align: right;\">     2</td><td style=\"text-align: right;\">  1212</td></tr>\n",
       "</tbody>\n",
       "</table><pre style='font-size: smaller; margin-bottom: 1em;'>[50 rows x 3 columns]</pre>"
      ],
      "text/plain": [
       "State               Fold    nrow\n",
       "----------------  ------  ------\n",
       "Acre                   1      60\n",
       "Acre                   2      80\n",
       "Acre                   3      53\n",
       "Acre                   4      69\n",
       "Acre                   5      57\n",
       "Acre                   6      89\n",
       "Alagoas                1     294\n",
       "Alagoas                2     300\n",
       "Alagoas                3     265\n",
       "Alagoas                4     299\n",
       "Alagoas                5     277\n",
       "Alagoas                6     395\n",
       "Amapa                  1      48\n",
       "Amapa                  2      41\n",
       "Amapa                  3      48\n",
       "Amapa                  4      45\n",
       "Amapa                  5      42\n",
       "Amapa                  6      45\n",
       "Amazonas               1     203\n",
       "Amazonas               2     235\n",
       "Amazonas               3     217\n",
       "Amazonas               4     212\n",
       "Amazonas               5     231\n",
       "Amazonas               6     273\n",
       "Bahia                  1     927\n",
       "Bahia                  2     938\n",
       "Bahia                  3     939\n",
       "Bahia                  4     905\n",
       "Bahia                  5     944\n",
       "Bahia                  6    1190\n",
       "Ceara                  1     654\n",
       "Ceara                  2     609\n",
       "Ceara                  3     583\n",
       "Ceara                  4     613\n",
       "Ceara                  5     670\n",
       "Ceara                  6     785\n",
       "Distrito Federal       1    1121\n",
       "Distrito Federal       2    1157\n",
       "Distrito Federal       3    1115\n",
       "Distrito Federal       4    1125\n",
       "Distrito Federal       5    1154\n",
       "Distrito Federal       6    1461\n",
       "Esperito Santo         1     627\n",
       "Esperito Santo         2     656\n",
       "Esperito Santo         3     682\n",
       "Esperito Santo         4     633\n",
       "Esperito Santo         5     682\n",
       "Esperito Santo         6     831\n",
       "Goias                  1    1222\n",
       "Goias                  2    1212\n",
       "[50 rows x 3 columns]\n"
      ]
     },
     "metadata": {},
     "output_type": "display_data"
    },
    {
     "name": "stdout",
     "output_type": "stream",
     "text": [
      "Counts of unique values by StateAb and Fold:\n",
      "All good! All categories of the StateAb column have at least one value for each fold.\n"
     ]
    },
    {
     "data": {
      "text/html": [
       "<table class='dataframe'>\n",
       "<thead>\n",
       "<tr><th>StateAb  </th><th style=\"text-align: right;\">  Fold</th><th style=\"text-align: right;\">  nrow</th></tr>\n",
       "</thead>\n",
       "<tbody>\n",
       "<tr><td>AC       </td><td style=\"text-align: right;\">     1</td><td style=\"text-align: right;\">    60</td></tr>\n",
       "<tr><td>AC       </td><td style=\"text-align: right;\">     2</td><td style=\"text-align: right;\">    80</td></tr>\n",
       "<tr><td>AC       </td><td style=\"text-align: right;\">     3</td><td style=\"text-align: right;\">    53</td></tr>\n",
       "<tr><td>AC       </td><td style=\"text-align: right;\">     4</td><td style=\"text-align: right;\">    69</td></tr>\n",
       "<tr><td>AC       </td><td style=\"text-align: right;\">     5</td><td style=\"text-align: right;\">    57</td></tr>\n",
       "<tr><td>AC       </td><td style=\"text-align: right;\">     6</td><td style=\"text-align: right;\">    89</td></tr>\n",
       "<tr><td>AL       </td><td style=\"text-align: right;\">     1</td><td style=\"text-align: right;\">   294</td></tr>\n",
       "<tr><td>AL       </td><td style=\"text-align: right;\">     2</td><td style=\"text-align: right;\">   300</td></tr>\n",
       "<tr><td>AL       </td><td style=\"text-align: right;\">     3</td><td style=\"text-align: right;\">   265</td></tr>\n",
       "<tr><td>AL       </td><td style=\"text-align: right;\">     4</td><td style=\"text-align: right;\">   299</td></tr>\n",
       "<tr><td>AL       </td><td style=\"text-align: right;\">     5</td><td style=\"text-align: right;\">   277</td></tr>\n",
       "<tr><td>AL       </td><td style=\"text-align: right;\">     6</td><td style=\"text-align: right;\">   395</td></tr>\n",
       "<tr><td>AM       </td><td style=\"text-align: right;\">     1</td><td style=\"text-align: right;\">   203</td></tr>\n",
       "<tr><td>AM       </td><td style=\"text-align: right;\">     2</td><td style=\"text-align: right;\">   235</td></tr>\n",
       "<tr><td>AM       </td><td style=\"text-align: right;\">     3</td><td style=\"text-align: right;\">   217</td></tr>\n",
       "<tr><td>AM       </td><td style=\"text-align: right;\">     4</td><td style=\"text-align: right;\">   212</td></tr>\n",
       "<tr><td>AM       </td><td style=\"text-align: right;\">     5</td><td style=\"text-align: right;\">   231</td></tr>\n",
       "<tr><td>AM       </td><td style=\"text-align: right;\">     6</td><td style=\"text-align: right;\">   273</td></tr>\n",
       "<tr><td>AP       </td><td style=\"text-align: right;\">     1</td><td style=\"text-align: right;\">    48</td></tr>\n",
       "<tr><td>AP       </td><td style=\"text-align: right;\">     2</td><td style=\"text-align: right;\">    41</td></tr>\n",
       "<tr><td>AP       </td><td style=\"text-align: right;\">     3</td><td style=\"text-align: right;\">    48</td></tr>\n",
       "<tr><td>AP       </td><td style=\"text-align: right;\">     4</td><td style=\"text-align: right;\">    45</td></tr>\n",
       "<tr><td>AP       </td><td style=\"text-align: right;\">     5</td><td style=\"text-align: right;\">    42</td></tr>\n",
       "<tr><td>AP       </td><td style=\"text-align: right;\">     6</td><td style=\"text-align: right;\">    45</td></tr>\n",
       "<tr><td>BA       </td><td style=\"text-align: right;\">     1</td><td style=\"text-align: right;\">   927</td></tr>\n",
       "<tr><td>BA       </td><td style=\"text-align: right;\">     2</td><td style=\"text-align: right;\">   938</td></tr>\n",
       "<tr><td>BA       </td><td style=\"text-align: right;\">     3</td><td style=\"text-align: right;\">   939</td></tr>\n",
       "<tr><td>BA       </td><td style=\"text-align: right;\">     4</td><td style=\"text-align: right;\">   905</td></tr>\n",
       "<tr><td>BA       </td><td style=\"text-align: right;\">     5</td><td style=\"text-align: right;\">   944</td></tr>\n",
       "<tr><td>BA       </td><td style=\"text-align: right;\">     6</td><td style=\"text-align: right;\">  1190</td></tr>\n",
       "<tr><td>CE       </td><td style=\"text-align: right;\">     1</td><td style=\"text-align: right;\">   654</td></tr>\n",
       "<tr><td>CE       </td><td style=\"text-align: right;\">     2</td><td style=\"text-align: right;\">   609</td></tr>\n",
       "<tr><td>CE       </td><td style=\"text-align: right;\">     3</td><td style=\"text-align: right;\">   583</td></tr>\n",
       "<tr><td>CE       </td><td style=\"text-align: right;\">     4</td><td style=\"text-align: right;\">   613</td></tr>\n",
       "<tr><td>CE       </td><td style=\"text-align: right;\">     5</td><td style=\"text-align: right;\">   670</td></tr>\n",
       "<tr><td>CE       </td><td style=\"text-align: right;\">     6</td><td style=\"text-align: right;\">   785</td></tr>\n",
       "<tr><td>DF       </td><td style=\"text-align: right;\">     1</td><td style=\"text-align: right;\">  1121</td></tr>\n",
       "<tr><td>DF       </td><td style=\"text-align: right;\">     2</td><td style=\"text-align: right;\">  1157</td></tr>\n",
       "<tr><td>DF       </td><td style=\"text-align: right;\">     3</td><td style=\"text-align: right;\">  1115</td></tr>\n",
       "<tr><td>DF       </td><td style=\"text-align: right;\">     4</td><td style=\"text-align: right;\">  1125</td></tr>\n",
       "<tr><td>DF       </td><td style=\"text-align: right;\">     5</td><td style=\"text-align: right;\">  1154</td></tr>\n",
       "<tr><td>DF       </td><td style=\"text-align: right;\">     6</td><td style=\"text-align: right;\">  1461</td></tr>\n",
       "<tr><td>ES       </td><td style=\"text-align: right;\">     1</td><td style=\"text-align: right;\">   627</td></tr>\n",
       "<tr><td>ES       </td><td style=\"text-align: right;\">     2</td><td style=\"text-align: right;\">   656</td></tr>\n",
       "<tr><td>ES       </td><td style=\"text-align: right;\">     3</td><td style=\"text-align: right;\">   682</td></tr>\n",
       "<tr><td>ES       </td><td style=\"text-align: right;\">     4</td><td style=\"text-align: right;\">   633</td></tr>\n",
       "<tr><td>ES       </td><td style=\"text-align: right;\">     5</td><td style=\"text-align: right;\">   682</td></tr>\n",
       "<tr><td>ES       </td><td style=\"text-align: right;\">     6</td><td style=\"text-align: right;\">   831</td></tr>\n",
       "<tr><td>GO       </td><td style=\"text-align: right;\">     1</td><td style=\"text-align: right;\">  1222</td></tr>\n",
       "<tr><td>GO       </td><td style=\"text-align: right;\">     2</td><td style=\"text-align: right;\">  1212</td></tr>\n",
       "</tbody>\n",
       "</table><pre style='font-size: smaller; margin-bottom: 1em;'>[50 rows x 3 columns]</pre>"
      ],
      "text/plain": [
       "StateAb      Fold    nrow\n",
       "---------  ------  ------\n",
       "AC              1      60\n",
       "AC              2      80\n",
       "AC              3      53\n",
       "AC              4      69\n",
       "AC              5      57\n",
       "AC              6      89\n",
       "AL              1     294\n",
       "AL              2     300\n",
       "AL              3     265\n",
       "AL              4     299\n",
       "AL              5     277\n",
       "AL              6     395\n",
       "AM              1     203\n",
       "AM              2     235\n",
       "AM              3     217\n",
       "AM              4     212\n",
       "AM              5     231\n",
       "AM              6     273\n",
       "AP              1      48\n",
       "AP              2      41\n",
       "AP              3      48\n",
       "AP              4      45\n",
       "AP              5      42\n",
       "AP              6      45\n",
       "BA              1     927\n",
       "BA              2     938\n",
       "BA              3     939\n",
       "BA              4     905\n",
       "BA              5     944\n",
       "BA              6    1190\n",
       "CE              1     654\n",
       "CE              2     609\n",
       "CE              3     583\n",
       "CE              4     613\n",
       "CE              5     670\n",
       "CE              6     785\n",
       "DF              1    1121\n",
       "DF              2    1157\n",
       "DF              3    1115\n",
       "DF              4    1125\n",
       "DF              5    1154\n",
       "DF              6    1461\n",
       "ES              1     627\n",
       "ES              2     656\n",
       "ES              3     682\n",
       "ES              4     633\n",
       "ES              5     682\n",
       "ES              6     831\n",
       "GO              1    1222\n",
       "GO              2    1212\n",
       "[50 rows x 3 columns]\n"
      ]
     },
     "metadata": {},
     "output_type": "display_data"
    }
   ],
   "source": [
    "for col in enum_columns:\n",
    "    print(f\"Counts of unique values by {col} and Fold:\")\n",
    "    grouped_df = df.group_by([col, \"Fold\"]).count().get_frame()\n",
    "    if len(grouped_df) == len(grouped_df[col].unique())*6:\n",
    "        print(f\"All good! All categories of the {col} column have at least one value for each fold.\")\n",
    "    else:\n",
    "        print(f\"That's bad! Some categories of the {col} column do not have at least one value for each fold.\")\n",
    "    display(grouped_df.head(50))"
   ]
  },
  {
   "cell_type": "code",
   "execution_count": 26,
   "metadata": {},
   "outputs": [
    {
     "name": "stdout",
     "output_type": "stream",
     "text": [
      "Export File progress: |██████████████████████████████████████████████████████████| (done) 100%\n",
      "Data exported to d:\\brvehins\\data\\PartColl\\sev\\brvehins1_PartColl_sev_preprocessed.csv\n",
      "Exposted data shape: [187815, 38]\n"
     ]
    }
   ],
   "source": [
    "# Define the output file name\n",
    "output_file_name = data_dir / coverage/ model/ f\"brvehins1_{coverage}_{model}_preprocessed.csv\"\n",
    "#Create the directory if it doesnt exist\n",
    "output_file_name.parent.mkdir(parents=True, exist_ok=True)\n",
    "# Export th data to a csv file\n",
    "h2o.export_file(frame = df, path = str(output_file_name), force=True)\n",
    "\n",
    "print(f\"Data exported to {output_file_name}\")\n",
    "print(f\"Exposted data shape: {df.dim}\")\n"
   ]
  },
  {
   "cell_type": "code",
   "execution_count": 27,
   "metadata": {},
   "outputs": [
    {
     "name": "stdout",
     "output_type": "stream",
     "text": [
      "Parse progress: |████████████████████████████████████████████████████████████████| (done) 100%\n"
     ]
    }
   ],
   "source": [
    "df_check = h2o.import_file(str(output_file_name))"
   ]
  },
  {
   "cell_type": "code",
   "execution_count": 28,
   "metadata": {},
   "outputs": [
    {
     "data": {
      "text/plain": [
       "{'Gender': 'enum',\n",
       " 'DrivAge': 'enum',\n",
       " 'VehYear': 'int',\n",
       " 'VehModel': 'enum',\n",
       " 'VehGroup': 'enum',\n",
       " 'Area': 'enum',\n",
       " 'State': 'enum',\n",
       " 'StateAb': 'enum',\n",
       " 'ExposTotal': 'real',\n",
       " 'PremTotal': 'real',\n",
       " 'SumInsAvg': 'real',\n",
       " 'ClaimNbRob': 'int',\n",
       " 'ClaimNbPartColl': 'int',\n",
       " 'ClaimNbTotColl': 'int',\n",
       " 'ClaimNbFire': 'int',\n",
       " 'ClaimNbOther': 'int',\n",
       " 'ClaimAmountRob': 'int',\n",
       " 'ClaimAmountPartColl': 'int',\n",
       " 'ClaimAmountTotColl': 'int',\n",
       " 'ClaimAmountFire': 'int',\n",
       " 'ClaimAmountOther': 'int',\n",
       " 'FreqRob': 'real',\n",
       " 'SevRob': 'real',\n",
       " 'PPRob': 'real',\n",
       " 'FreqPartColl': 'real',\n",
       " 'SevPartColl': 'real',\n",
       " 'PPPartColl': 'real',\n",
       " 'FreqTotColl': 'real',\n",
       " 'SevTotColl': 'real',\n",
       " 'PPTotColl': 'real',\n",
       " 'FreqFire': 'real',\n",
       " 'SevFire': 'real',\n",
       " 'PPFire': 'real',\n",
       " 'FreqOther': 'real',\n",
       " 'SevOther': 'real',\n",
       " 'PPOther': 'real',\n",
       " 'Fold': 'int',\n",
       " 'log(ExposTotal)': 'real'}"
      ]
     },
     "execution_count": 28,
     "metadata": {},
     "output_type": "execute_result"
    }
   ],
   "source": [
    "df_check.types"
   ]
  },
  {
   "cell_type": "code",
   "execution_count": 29,
   "metadata": {},
   "outputs": [
    {
     "data": {
      "text/plain": [
       "{'Gender': 'enum',\n",
       " 'DrivAge': 'enum',\n",
       " 'VehYear': 'int',\n",
       " 'VehModel': 'enum',\n",
       " 'VehGroup': 'enum',\n",
       " 'Area': 'enum',\n",
       " 'State': 'enum',\n",
       " 'StateAb': 'enum',\n",
       " 'ExposTotal': 'real',\n",
       " 'PremTotal': 'real',\n",
       " 'SumInsAvg': 'real',\n",
       " 'ClaimNbRob': 'int',\n",
       " 'ClaimNbPartColl': 'int',\n",
       " 'ClaimNbTotColl': 'int',\n",
       " 'ClaimNbFire': 'int',\n",
       " 'ClaimNbOther': 'int',\n",
       " 'ClaimAmountRob': 'int',\n",
       " 'ClaimAmountPartColl': 'int',\n",
       " 'ClaimAmountTotColl': 'int',\n",
       " 'ClaimAmountFire': 'int',\n",
       " 'ClaimAmountOther': 'int',\n",
       " 'FreqRob': 'real',\n",
       " 'SevRob': 'real',\n",
       " 'PPRob': 'real',\n",
       " 'FreqPartColl': 'real',\n",
       " 'SevPartColl': 'real',\n",
       " 'PPPartColl': 'real',\n",
       " 'FreqTotColl': 'real',\n",
       " 'SevTotColl': 'real',\n",
       " 'PPTotColl': 'real',\n",
       " 'FreqFire': 'real',\n",
       " 'SevFire': 'real',\n",
       " 'PPFire': 'real',\n",
       " 'FreqOther': 'real',\n",
       " 'SevOther': 'real',\n",
       " 'PPOther': 'real',\n",
       " 'Fold': 'int',\n",
       " 'log(ExposTotal)': 'real'}"
      ]
     },
     "execution_count": 29,
     "metadata": {},
     "output_type": "execute_result"
    }
   ],
   "source": [
    "df.types"
   ]
  },
  {
   "cell_type": "code",
   "execution_count": 30,
   "metadata": {},
   "outputs": [
    {
     "data": {
      "text/html": [
       "<pre style='margin: 1em 0 1em 0;'>Rows:187815\n",
       "Cols:38\n",
       "</pre>"
      ],
      "text/plain": [
       "Rows:187815\n",
       "Cols:38\n"
      ]
     },
     "metadata": {},
     "output_type": "display_data"
    },
    {
     "data": {
      "text/html": [
       "<table class='dataframe'>\n",
       "<thead>\n",
       "<tr><th>       </th><th>Gender  </th><th>DrivAge  </th><th>VehYear           </th><th>VehModel                                                  </th><th>VehGroup                       </th><th>Area                                      </th><th>State             </th><th>StateAb  </th><th>ExposTotal           </th><th>PremTotal          </th><th>SumInsAvg         </th><th>ClaimNbRob         </th><th>ClaimNbPartColl   </th><th>ClaimNbTotColl     </th><th>ClaimNbFire          </th><th>ClaimNbOther      </th><th>ClaimAmountRob   </th><th>ClaimAmountPartColl  </th><th>ClaimAmountTotColl  </th><th>ClaimAmountFire  </th><th>ClaimAmountOther  </th><th>FreqRob             </th><th>SevRob            </th><th>PPRob             </th><th>FreqPartColl         </th><th>SevPartColl      </th><th>PPPartColl         </th><th>FreqTotColl        </th><th>SevTotColl        </th><th>PPTotColl        </th><th>FreqFire             </th><th>SevFire          </th><th>PPFire           </th><th>FreqOther          </th><th>SevOther          </th><th>PPOther           </th><th>Fold              </th><th>log(ExposTotal)     </th></tr>\n",
       "</thead>\n",
       "<tbody>\n",
       "<tr><td>type   </td><td>enum    </td><td>enum     </td><td>int               </td><td>enum                                                      </td><td>enum                           </td><td>enum                                      </td><td>enum              </td><td>enum     </td><td>real                 </td><td>real               </td><td>real              </td><td>int                </td><td>int               </td><td>int                </td><td>int                  </td><td>int               </td><td>int              </td><td>int                  </td><td>int                 </td><td>int              </td><td>int               </td><td>real                </td><td>real              </td><td>real              </td><td>real                 </td><td>real             </td><td>real               </td><td>real               </td><td>real              </td><td>real             </td><td>real                 </td><td>real             </td><td>real             </td><td>real               </td><td>real              </td><td>real              </td><td>int               </td><td>real                </td></tr>\n",
       "<tr><td>mins   </td><td>        </td><td>         </td><td>1970.0            </td><td>                                                          </td><td>                               </td><td>                                          </td><td>                  </td><td>         </td><td>0.0027397261001169703</td><td>0.00867888145148754</td><td>7.08              </td><td>0.0                </td><td>1.0               </td><td>0.0                </td><td>0.0                  </td><td>0.0               </td><td>0.0              </td><td>1.0                  </td><td>0.0                 </td><td>0.0              </td><td>0.0               </td><td>0.0                 </td><td>0.0               </td><td>0.0               </td><td>0.0023530519083250975</td><td>1.0              </td><td>0.02795638803466591</td><td>0.0                </td><td>0.0               </td><td>0.0              </td><td>0.0                  </td><td>0.0              </td><td>0.0              </td><td>0.0                </td><td>0.0               </td><td>0.0               </td><td>1.0               </td><td>-5.899897327039798  </td></tr>\n",
       "<tr><td>mean   </td><td>        </td><td>         </td><td>2006.9904267497275</td><td>                                                          </td><td>                               </td><td>                                          </td><td>                  </td><td>         </td><td>17.79210827253136    </td><td>17774.736811163533 </td><td>35344.01935079735 </td><td>0.17241434390224414</td><td>2.1100125123126494</td><td>0.08890131246173098</td><td>0.0037590181827862525</td><td>3.375640923248943 </td><td>4136.42705854165 </td><td>7553.045949471551    </td><td>2772.405143359157   </td><td>66.21365705614568</td><td>845.5824721135159 </td><td>0.06768286645810671 </td><td>2504.7427493058626</td><td>1895.0381971922918</td><td>1.2026736133798854   </td><td>3999.324653127265</td><td>5447.678039726333  </td><td>0.05448851374885887</td><td>2304.2914766481317</td><td>1857.793113301305</td><td>0.0013434533170997949</td><td>63.11115858690733</td><td>41.42074498711959</td><td>0.47916783622781345</td><td>210.41737305863998</td><td>445.33970675590984</td><td>3.596155791603443 </td><td>1.7586508600884265  </td></tr>\n",
       "<tr><td>maxs   </td><td>        </td><td>         </td><td>2011.0            </td><td>                                                          </td><td>                               </td><td>                                          </td><td>                  </td><td>         </td><td>8078.440000000001    </td><td>6478755.129999999  </td><td>904788.0200000004 </td><td>164.0              </td><td>1617.0            </td><td>66.0               </td><td>6.0                  </td><td>1278.0            </td><td>4421765.0        </td><td>2289213.0            </td><td>2201873.0           </td><td>210436.0         </td><td>967914.0          </td><td>729.999980623834    </td><td>347611.0          </td><td>13577269.639622685</td><td>5474.999854678754    </td><td>622483.0         </td><td>24583114.34749792  </td><td>729.999980623834   </td><td>347645.0          </td><td>27480849.27058422</td><td>25.0                 </td><td>201149.0         </td><td>1475500.0        </td><td>6934.999815926422  </td><td>228717.0          </td><td>3903300.0         </td><td>6.0               </td><td>8.996954063567932   </td></tr>\n",
       "<tr><td>sigma  </td><td>        </td><td>         </td><td>3.4792564313252416</td><td>                                                          </td><td>                               </td><td>                                          </td><td>                  </td><td>         </td><td>44.73851022290518    </td><td>45213.94045398596  </td><td>22869.538107064607</td><td>0.8997678808598801 </td><td>7.681954965690363 </td><td>0.40229869959723835</td><td>0.0658072468847332   </td><td>15.531251274022871</td><td>24961.51287040023</td><td>18109.225207751188   </td><td>15253.528820249336  </td><td>1702.588400812393</td><td>6441.028225412758 </td><td>3.3598055785065952  </td><td>9861.787056888907 </td><td>75507.50919382717 </td><td>19.292246058601027   </td><td>7235.864831271306</td><td>97552.34091686767  </td><td>3.2774321759059384 </td><td>9833.639105240116 </td><td>88778.42718161625</td><td>0.1103771619634718   </td><td>1594.894719748211</td><td>5131.123880908063</td><td>18.30649977931277  </td><td>2070.096693485992 </td><td>18058.256337292678</td><td>1.7458646589036977</td><td>1.5812008449260462  </td></tr>\n",
       "<tr><td>zeros  </td><td>        </td><td>         </td><td>0                 </td><td>                                                          </td><td>                               </td><td>                                          </td><td>                  </td><td>         </td><td>0                    </td><td>0                  </td><td>0                 </td><td>168572             </td><td>0                 </td><td>173904             </td><td>187149               </td><td>120628            </td><td>168572           </td><td>0                    </td><td>173904              </td><td>187149           </td><td>120628            </td><td>168572              </td><td>168572            </td><td>168572            </td><td>0                    </td><td>0                </td><td>0                  </td><td>173904             </td><td>173904            </td><td>173904           </td><td>187149               </td><td>187149           </td><td>187149           </td><td>120628             </td><td>120628            </td><td>120628            </td><td>0                 </td><td>1703                </td></tr>\n",
       "<tr><td>missing</td><td>0       </td><td>0        </td><td>0                 </td><td>0                                                         </td><td>0                              </td><td>0                                         </td><td>0                 </td><td>0        </td><td>0                    </td><td>0                  </td><td>0                 </td><td>0                  </td><td>0                 </td><td>0                  </td><td>0                    </td><td>0                 </td><td>0                </td><td>0                    </td><td>0                   </td><td>0                </td><td>0                 </td><td>0                   </td><td>0                 </td><td>0                 </td><td>0                    </td><td>0                </td><td>0                  </td><td>0                  </td><td>0                 </td><td>0                </td><td>0                    </td><td>0                </td><td>0                </td><td>0                  </td><td>0                 </td><td>0                 </td><td>0                 </td><td>0                   </td></tr>\n",
       "<tr><td>0      </td><td>Male    </td><td>36-45    </td><td>2009.0            </td><td>Volvo - Fh 440 6x2 2p (diesel)                            </td><td>Volvo Caminhoes - Todos        </td><td>Ribeirao Preto e Demais Mun. de Campinas  </td><td>Sao Paulo         </td><td>SP       </td><td>4.55                 </td><td>53031.35           </td><td>301889.74         </td><td>0.0                </td><td>1.0               </td><td>0.0                </td><td>0.0                  </td><td>0.0               </td><td>0.0              </td><td>648.0                </td><td>0.0                 </td><td>0.0              </td><td>0.0               </td><td>0.0                 </td><td>0.0               </td><td>0.0               </td><td>0.21978021978021972  </td><td>648.0            </td><td>142.41758241758245 </td><td>0.0                </td><td>0.0               </td><td>0.0              </td><td>0.0                  </td><td>0.0              </td><td>0.0              </td><td>0.0                </td><td>0.0               </td><td>0.0               </td><td>5.0               </td><td>1.5151272329628591  </td></tr>\n",
       "<tr><td>1      </td><td>Male    </td><td>26-35    </td><td>1998.0            </td><td>Vw - Volkswagen - Gol Gl 1.6 Mi/star 1.6 E 1.8/atlanta 1.6</td><td>Vw Volkswagen Gol Acima De 1.0 </td><td>Met. Porto Alegre e Caxias do Sul         </td><td>Rio Grande do Sul </td><td>RS       </td><td>1.0                  </td><td>660.59             </td><td>13574.0           </td><td>0.0                </td><td>1.0               </td><td>0.0                </td><td>0.0                  </td><td>2.0               </td><td>0.0              </td><td>2773.0               </td><td>0.0                 </td><td>0.0              </td><td>120.0             </td><td>0.0                 </td><td>0.0               </td><td>0.0               </td><td>1.0                  </td><td>2773.0           </td><td>2773.0             </td><td>0.0                </td><td>0.0               </td><td>0.0              </td><td>0.0                  </td><td>0.0              </td><td>0.0              </td><td>2.0                </td><td>60.0              </td><td>120.0             </td><td>3.0               </td><td>0.0                 </td></tr>\n",
       "<tr><td>2      </td><td>Male    </td><td>26-35    </td><td>2010.0            </td><td>Vw - Volkswagen - Gol City (trend) 1.0 Mi Total Flex 8v 4p</td><td>Vw Volkswagen Gol 1.0          </td><td>Maranhao                                  </td><td>Maranhao          </td><td>MA       </td><td>10.42                </td><td>12908.31           </td><td>26540.060000000005</td><td>0.0                </td><td>1.0               </td><td>0.0                </td><td>0.0                  </td><td>2.0               </td><td>0.0              </td><td>1512.0               </td><td>0.0                 </td><td>0.0              </td><td>320.0             </td><td>0.0                 </td><td>0.0               </td><td>0.0               </td><td>0.09596928982725528  </td><td>1512.0           </td><td>145.10556621880997 </td><td>0.0                </td><td>0.0               </td><td>0.0              </td><td>0.0                  </td><td>0.0              </td><td>0.0              </td><td>0.19193857965451055</td><td>160.0             </td><td>30.71017274472169 </td><td>2.0               </td><td>2.343727036325221   </td></tr>\n",
       "<tr><td>3      </td><td>Female  </td><td>36-45    </td><td>2004.0            </td><td>Vw - Volkswagen - Polo 1.6 Mi/ S.ouro 1.6mi 101cv 8v 5p   </td><td>Vw Volkswagen Polo             </td><td>Met. Curitiba                             </td><td>Parana            </td><td>PR       </td><td>11.99                </td><td>10070.33           </td><td>22506.910000000003</td><td>0.0                </td><td>1.0               </td><td>0.0                </td><td>0.0                  </td><td>0.0               </td><td>0.0              </td><td>3965.0               </td><td>0.0                 </td><td>0.0              </td><td>0.0               </td><td>0.0                 </td><td>0.0               </td><td>0.0               </td><td>0.08340283569641364  </td><td>3965.0           </td><td>330.6922435362802  </td><td>0.0                </td><td>0.0               </td><td>0.0              </td><td>0.0                  </td><td>0.0              </td><td>0.0              </td><td>0.0                </td><td>0.0               </td><td>0.0               </td><td>2.0               </td><td>2.4840729690394228  </td></tr>\n",
       "<tr><td>4      </td><td>Female  </td><td>26-35    </td><td>2008.0            </td><td>Vw - Volkswagen - Gol City (trend) 1.0 Mi Total Flex 8v 2p</td><td>Vw Volkswagen Gol 1.0          </td><td>Maranhao                                  </td><td>Maranhao          </td><td>MA       </td><td>6.02                 </td><td>4956.41            </td><td>22530.46          </td><td>0.0                </td><td>2.0               </td><td>0.0                </td><td>0.0                  </td><td>5.0               </td><td>0.0              </td><td>4263.0               </td><td>0.0                 </td><td>0.0              </td><td>309.0             </td><td>0.0                 </td><td>0.0               </td><td>0.0               </td><td>0.3322259136212624   </td><td>2131.5           </td><td>708.1395348837212  </td><td>0.0                </td><td>0.0               </td><td>0.0              </td><td>0.0                  </td><td>0.0              </td><td>0.0              </td><td>0.8305647840531564 </td><td>61.8              </td><td>51.32890365448505 </td><td>3.0               </td><td>1.7950872593207297  </td></tr>\n",
       "<tr><td>5      </td><td>Female  </td><td>46-55    </td><td>2009.0            </td><td>Ford - Focus 2.0 16v 5p Aut.                              </td><td>Ford Focus                     </td><td>Met.BH-Centro Oeste-Zona Mata-C. Vertentes</td><td>Minas Gerais      </td><td>MG       </td><td>8.29                 </td><td>10176.93           </td><td>53734.17          </td><td>0.0                </td><td>2.0               </td><td>0.0                </td><td>0.0                  </td><td>2.0               </td><td>0.0              </td><td>3700.0               </td><td>0.0                 </td><td>0.0              </td><td>906.0             </td><td>0.0                 </td><td>0.0               </td><td>0.0               </td><td>0.241254523522316    </td><td>1850.0           </td><td>446.32086851628475 </td><td>0.0                </td><td>0.0               </td><td>0.0              </td><td>0.0                  </td><td>0.0              </td><td>0.0              </td><td>0.241254523522316  </td><td>453.0             </td><td>109.28829915560917</td><td>4.0               </td><td>2.1150499691472033  </td></tr>\n",
       "<tr><td>6      </td><td>Male    </td><td>46-55    </td><td>2009.0            </td><td>Ford - Ka 1.0 8v Flex 3p                                  </td><td>Ford Ka 1.0                    </td><td>Vale do Paraiba e Ribeira                 </td><td>Sao Paulo         </td><td>SP       </td><td>58.82                </td><td>40061.91999999999  </td><td>24258.930000000004</td><td>1.0                </td><td>5.0               </td><td>0.0                </td><td>0.0                  </td><td>6.0               </td><td>27560.0          </td><td>8483.0               </td><td>0.0                 </td><td>0.0              </td><td>551.0             </td><td>0.017001020061203673</td><td>27560.0           </td><td>468.5481128867732 </td><td>0.08500510030601836  </td><td>1696.6           </td><td>144.2196531791908  </td><td>0.0                </td><td>0.0               </td><td>0.0              </td><td>0.0                  </td><td>0.0              </td><td>0.0              </td><td>0.102006120367222  </td><td>91.83333333333336 </td><td>9.367562053723224 </td><td>3.0               </td><td>4.074481933125849   </td></tr>\n",
       "<tr><td>7      </td><td>Male    </td><td>36-45    </td><td>2009.0            </td><td>Gm - Chevrolet - Corsa Sed. Premium 1.4 8v Econoflex 4p   </td><td>Gm Chevrolet Corsa Acima De 1.0</td><td>Met. de Sao Paulo                         </td><td>Sao Paulo         </td><td>SP       </td><td>19.3                 </td><td>18517.330000000005 </td><td>30989.460000000003</td><td>1.0                </td><td>1.0               </td><td>0.0                </td><td>0.0                  </td><td>0.0               </td><td>30156.0          </td><td>2114.0               </td><td>0.0                 </td><td>0.0              </td><td>0.0               </td><td>0.05181347150259069 </td><td>30156.0           </td><td>1562.487046632124 </td><td>0.05181347150259069  </td><td>2114.0           </td><td>109.53367875647672 </td><td>0.0                </td><td>0.0               </td><td>0.0              </td><td>0.0                  </td><td>0.0              </td><td>0.0              </td><td>0.0                </td><td>0.0               </td><td>0.0               </td><td>1.0               </td><td>2.9601050959108397  </td></tr>\n",
       "<tr><td>8      </td><td>Female  </td><td>26-35    </td><td>2004.0            </td><td>Vw - Volkswagen - Fox City 1.0 Mi/ 1.0mi Total Flex 8v 4p </td><td>Vw Volkswagen Fox 1.0          </td><td>Pernambuco                                </td><td>Pernambuco        </td><td>PE       </td><td>2.82                 </td><td>2578.99            </td><td>22050.15          </td><td>0.0                </td><td>1.0               </td><td>0.0                </td><td>0.0                  </td><td>4.0               </td><td>0.0              </td><td>2692.0               </td><td>0.0                 </td><td>0.0              </td><td>268.0             </td><td>0.0                 </td><td>0.0               </td><td>0.0               </td><td>0.3546099290780141   </td><td>2692.0           </td><td>954.609929078014   </td><td>0.0                </td><td>0.0               </td><td>0.0              </td><td>0.0                  </td><td>0.0              </td><td>0.0              </td><td>1.4184397163120563 </td><td>67.0              </td><td>95.03546099290782 </td><td>6.0               </td><td>1.0367368849500225  </td></tr>\n",
       "<tr><td>9      </td><td>Female  </td><td>&gt;55      </td><td>2009.0            </td><td>Peugeot - 207 Xs 1.6 Flex 16v 5p Aut.                     </td><td>Peugeot 207                    </td><td>Mato Grosso do Sul                        </td><td>Mato Grosso do Sul</td><td>MS       </td><td>1.01                 </td><td>1169.92            </td><td>41164.01000000001 </td><td>0.0                </td><td>1.0               </td><td>0.0                </td><td>0.0                  </td><td>6.0               </td><td>0.0              </td><td>2612.0               </td><td>0.0                 </td><td>0.0              </td><td>414.0             </td><td>0.0                 </td><td>0.0               </td><td>0.0               </td><td>0.99009900990099     </td><td>2612.0           </td><td>2586.138613861386  </td><td>0.0                </td><td>0.0               </td><td>0.0              </td><td>0.0                  </td><td>0.0              </td><td>0.0              </td><td>5.940594059405941  </td><td>69.0              </td><td>409.9009900990099 </td><td>2.0               </td><td>0.009950330853168092</td></tr>\n",
       "</tbody>\n",
       "</table><pre style='font-size: smaller; margin-bottom: 1em;'>[187815 rows x 38 columns]</pre>"
      ],
      "text/plain": [
       "         Gender    DrivAge    VehYear             VehModel                                                    VehGroup                         Area                                        State               StateAb    ExposTotal             PremTotal            SumInsAvg           ClaimNbRob           ClaimNbPartColl     ClaimNbTotColl       ClaimNbFire            ClaimNbOther        ClaimAmountRob     ClaimAmountPartColl    ClaimAmountTotColl    ClaimAmountFire    ClaimAmountOther    FreqRob               SevRob              PPRob               FreqPartColl           SevPartColl        PPPartColl           FreqTotColl          SevTotColl          PPTotColl          FreqFire               SevFire            PPFire             FreqOther            SevOther            PPOther             Fold                log(ExposTotal)\n",
       "-------  --------  ---------  ------------------  ----------------------------------------------------------  -------------------------------  ------------------------------------------  ------------------  ---------  ---------------------  -------------------  ------------------  -------------------  ------------------  -------------------  ---------------------  ------------------  -----------------  ---------------------  --------------------  -----------------  ------------------  --------------------  ------------------  ------------------  ---------------------  -----------------  -------------------  -------------------  ------------------  -----------------  ---------------------  -----------------  -----------------  -------------------  ------------------  ------------------  ------------------  --------------------\n",
       "type     enum      enum       int                 enum                                                        enum                             enum                                        enum                enum       real                   real                 real                int                  int                 int                  int                    int                 int                int                    int                   int                int                 real                  real                real                real                   real               real                 real                 real                real               real                   real               real               real                 real                real                int                 real\n",
       "mins                          1970.0                                                                                                                                                                                      0.0027397261001169703  0.00867888145148754  7.08                0.0                  1.0                 0.0                  0.0                    0.0                 0.0                1.0                    0.0                   0.0                0.0                 0.0                   0.0                 0.0                 0.0023530519083250975  1.0                0.02795638803466591  0.0                  0.0                 0.0                0.0                    0.0                0.0                0.0                  0.0                 0.0                 1.0                 -5.899897327039798\n",
       "mean                          2006.9904267497275                                                                                                                                                                          17.79210827253136      17774.736811163533   35344.01935079735   0.17241434390224414  2.1100125123126494  0.08890131246173098  0.0037590181827862525  3.375640923248943   4136.42705854165   7553.045949471551      2772.405143359157     66.21365705614568  845.5824721135159   0.06768286645810671   2504.7427493058626  1895.0381971922918  1.2026736133798854     3999.324653127265  5447.678039726333    0.05448851374885887  2304.2914766481317  1857.793113301305  0.0013434533170997949  63.11115858690733  41.42074498711959  0.47916783622781345  210.41737305863998  445.33970675590984  3.596155791603443   1.7586508600884265\n",
       "maxs                          2011.0                                                                                                                                                                                      8078.440000000001      6478755.129999999    904788.0200000004   164.0                1617.0              66.0                 6.0                    1278.0              4421765.0          2289213.0              2201873.0             210436.0           967914.0            729.999980623834      347611.0            13577269.639622685  5474.999854678754      622483.0           24583114.34749792    729.999980623834     347645.0            27480849.27058422  25.0                   201149.0           1475500.0          6934.999815926422    228717.0            3903300.0           6.0                 8.996954063567932\n",
       "sigma                         3.4792564313252416                                                                                                                                                                          44.73851022290518      45213.94045398596    22869.538107064607  0.8997678808598801   7.681954965690363   0.40229869959723835  0.0658072468847332     15.531251274022871  24961.51287040023  18109.225207751188     15253.528820249336    1702.588400812393  6441.028225412758   3.3598055785065952    9861.787056888907   75507.50919382717   19.292246058601027     7235.864831271306  97552.34091686767    3.2774321759059384   9833.639105240116   88778.42718161625  0.1103771619634718     1594.894719748211  5131.123880908063  18.30649977931277    2070.096693485992   18058.256337292678  1.7458646589036977  1.5812008449260462\n",
       "zeros                         0                                                                                                                                                                                           0                      0                    0                   168572               0                   173904               187149                 120628              168572             0                      173904                187149             120628              168572                168572              168572              0                      0                  0                    173904               173904              173904             187149                 187149             187149             120628               120628              120628              0                   1703\n",
       "missing  0         0          0                   0                                                           0                                0                                           0                   0          0                      0                    0                   0                    0                   0                    0                      0                   0                  0                      0                     0                  0                   0                     0                   0                   0                      0                  0                    0                    0                   0                  0                      0                  0                  0                    0                   0                   0                   0\n",
       "0        Male      36-45      2009.0              Volvo - Fh 440 6x2 2p (diesel)                              Volvo Caminhoes - Todos          Ribeirao Preto e Demais Mun. de Campinas    Sao Paulo           SP         4.55                   53031.35             301889.74           0.0                  1.0                 0.0                  0.0                    0.0                 0.0                648.0                  0.0                   0.0                0.0                 0.0                   0.0                 0.0                 0.21978021978021972    648.0              142.41758241758245   0.0                  0.0                 0.0                0.0                    0.0                0.0                0.0                  0.0                 0.0                 5.0                 1.5151272329628591\n",
       "1        Male      26-35      1998.0              Vw - Volkswagen - Gol Gl 1.6 Mi/star 1.6 E 1.8/atlanta 1.6  Vw Volkswagen Gol Acima De 1.0   Met. Porto Alegre e Caxias do Sul           Rio Grande do Sul   RS         1.0                    660.59               13574.0             0.0                  1.0                 0.0                  0.0                    2.0                 0.0                2773.0                 0.0                   0.0                120.0               0.0                   0.0                 0.0                 1.0                    2773.0             2773.0               0.0                  0.0                 0.0                0.0                    0.0                0.0                2.0                  60.0                120.0               3.0                 0.0\n",
       "2        Male      26-35      2010.0              Vw - Volkswagen - Gol City (trend) 1.0 Mi Total Flex 8v 4p  Vw Volkswagen Gol 1.0            Maranhao                                    Maranhao            MA         10.42                  12908.31             26540.060000000005  0.0                  1.0                 0.0                  0.0                    2.0                 0.0                1512.0                 0.0                   0.0                320.0               0.0                   0.0                 0.0                 0.09596928982725528    1512.0             145.10556621880997   0.0                  0.0                 0.0                0.0                    0.0                0.0                0.19193857965451055  160.0               30.71017274472169   2.0                 2.343727036325221\n",
       "3        Female    36-45      2004.0              Vw - Volkswagen - Polo 1.6 Mi/ S.ouro 1.6mi 101cv 8v 5p     Vw Volkswagen Polo               Met. Curitiba                               Parana              PR         11.99                  10070.33             22506.910000000003  0.0                  1.0                 0.0                  0.0                    0.0                 0.0                3965.0                 0.0                   0.0                0.0                 0.0                   0.0                 0.0                 0.08340283569641364    3965.0             330.6922435362802    0.0                  0.0                 0.0                0.0                    0.0                0.0                0.0                  0.0                 0.0                 2.0                 2.4840729690394228\n",
       "4        Female    26-35      2008.0              Vw - Volkswagen - Gol City (trend) 1.0 Mi Total Flex 8v 2p  Vw Volkswagen Gol 1.0            Maranhao                                    Maranhao            MA         6.02                   4956.41              22530.46            0.0                  2.0                 0.0                  0.0                    5.0                 0.0                4263.0                 0.0                   0.0                309.0               0.0                   0.0                 0.0                 0.3322259136212624     2131.5             708.1395348837212    0.0                  0.0                 0.0                0.0                    0.0                0.0                0.8305647840531564   61.8                51.32890365448505   3.0                 1.7950872593207297\n",
       "5        Female    46-55      2009.0              Ford - Focus 2.0 16v 5p Aut.                                Ford Focus                       Met.BH-Centro Oeste-Zona Mata-C. Vertentes  Minas Gerais        MG         8.29                   10176.93             53734.17            0.0                  2.0                 0.0                  0.0                    2.0                 0.0                3700.0                 0.0                   0.0                906.0               0.0                   0.0                 0.0                 0.241254523522316      1850.0             446.32086851628475   0.0                  0.0                 0.0                0.0                    0.0                0.0                0.241254523522316    453.0               109.28829915560917  4.0                 2.1150499691472033\n",
       "6        Male      46-55      2009.0              Ford - Ka 1.0 8v Flex 3p                                    Ford Ka 1.0                      Vale do Paraiba e Ribeira                   Sao Paulo           SP         58.82                  40061.91999999999    24258.930000000004  1.0                  5.0                 0.0                  0.0                    6.0                 27560.0            8483.0                 0.0                   0.0                551.0               0.017001020061203673  27560.0             468.5481128867732   0.08500510030601836    1696.6             144.2196531791908    0.0                  0.0                 0.0                0.0                    0.0                0.0                0.102006120367222    91.83333333333336   9.367562053723224   3.0                 4.074481933125849\n",
       "7        Male      36-45      2009.0              Gm - Chevrolet - Corsa Sed. Premium 1.4 8v Econoflex 4p     Gm Chevrolet Corsa Acima De 1.0  Met. de Sao Paulo                           Sao Paulo           SP         19.3                   18517.330000000005   30989.460000000003  1.0                  1.0                 0.0                  0.0                    0.0                 30156.0            2114.0                 0.0                   0.0                0.0                 0.05181347150259069   30156.0             1562.487046632124   0.05181347150259069    2114.0             109.53367875647672   0.0                  0.0                 0.0                0.0                    0.0                0.0                0.0                  0.0                 0.0                 1.0                 2.9601050959108397\n",
       "8        Female    26-35      2004.0              Vw - Volkswagen - Fox City 1.0 Mi/ 1.0mi Total Flex 8v 4p   Vw Volkswagen Fox 1.0            Pernambuco                                  Pernambuco          PE         2.82                   2578.99              22050.15            0.0                  1.0                 0.0                  0.0                    4.0                 0.0                2692.0                 0.0                   0.0                268.0               0.0                   0.0                 0.0                 0.3546099290780141     2692.0             954.609929078014     0.0                  0.0                 0.0                0.0                    0.0                0.0                1.4184397163120563   67.0                95.03546099290782   6.0                 1.0367368849500225\n",
       "9        Female    >55        2009.0              Peugeot - 207 Xs 1.6 Flex 16v 5p Aut.                       Peugeot 207                      Mato Grosso do Sul                          Mato Grosso do Sul  MS         1.01                   1169.92              41164.01000000001   0.0                  1.0                 0.0                  0.0                    6.0                 0.0                2612.0                 0.0                   0.0                414.0               0.0                   0.0                 0.0                 0.99009900990099       2612.0             2586.138613861386    0.0                  0.0                 0.0                0.0                    0.0                0.0                5.940594059405941    69.0                409.9009900990099   2.0                 0.009950330853168092\n",
       "[187815 rows x 38 columns]\n"
      ]
     },
     "metadata": {},
     "output_type": "display_data"
    }
   ],
   "source": [
    "df_check.describe()"
   ]
  },
  {
   "cell_type": "code",
   "execution_count": 31,
   "metadata": {},
   "outputs": [
    {
     "data": {
      "text/html": [
       "<table class='dataframe'>\n",
       "<thead>\n",
       "<tr><th style=\"text-align: right;\">  isNA(Gender)</th><th style=\"text-align: right;\">  isNA(DrivAge)</th><th style=\"text-align: right;\">  isNA(VehYear)</th><th style=\"text-align: right;\">  isNA(VehModel)</th><th style=\"text-align: right;\">  isNA(VehGroup)</th><th style=\"text-align: right;\">  isNA(Area)</th><th style=\"text-align: right;\">  isNA(State)</th><th style=\"text-align: right;\">  isNA(StateAb)</th><th style=\"text-align: right;\">  isNA(ExposTotal)</th><th style=\"text-align: right;\">  isNA(PremTotal)</th><th style=\"text-align: right;\">  isNA(SumInsAvg)</th><th style=\"text-align: right;\">  isNA(ClaimNbRob)</th><th style=\"text-align: right;\">  isNA(ClaimNbPartColl)</th><th style=\"text-align: right;\">  isNA(ClaimNbTotColl)</th><th style=\"text-align: right;\">  isNA(ClaimNbFire)</th><th style=\"text-align: right;\">  isNA(ClaimNbOther)</th><th style=\"text-align: right;\">  isNA(ClaimAmountRob)</th><th style=\"text-align: right;\">  isNA(ClaimAmountPartColl)</th><th style=\"text-align: right;\">  isNA(ClaimAmountTotColl)</th><th style=\"text-align: right;\">  isNA(ClaimAmountFire)</th><th style=\"text-align: right;\">  isNA(ClaimAmountOther)</th><th style=\"text-align: right;\">  isNA(FreqRob)</th><th style=\"text-align: right;\">  isNA(SevRob)</th><th style=\"text-align: right;\">  isNA(PPRob)</th><th style=\"text-align: right;\">  isNA(FreqPartColl)</th><th style=\"text-align: right;\">  isNA(SevPartColl)</th><th style=\"text-align: right;\">  isNA(PPPartColl)</th><th style=\"text-align: right;\">  isNA(FreqTotColl)</th><th style=\"text-align: right;\">  isNA(SevTotColl)</th><th style=\"text-align: right;\">  isNA(PPTotColl)</th><th style=\"text-align: right;\">  isNA(FreqFire)</th><th style=\"text-align: right;\">  isNA(SevFire)</th><th style=\"text-align: right;\">  isNA(PPFire)</th><th style=\"text-align: right;\">  isNA(FreqOther)</th><th style=\"text-align: right;\">  isNA(SevOther)</th><th style=\"text-align: right;\">  isNA(PPOther)</th><th style=\"text-align: right;\">  isNA(Fold)</th><th style=\"text-align: right;\">  isNA(log(ExposTotal))</th></tr>\n",
       "</thead>\n",
       "<tbody>\n",
       "<tr><td style=\"text-align: right;\">             0</td><td style=\"text-align: right;\">              0</td><td style=\"text-align: right;\">              0</td><td style=\"text-align: right;\">               0</td><td style=\"text-align: right;\">               0</td><td style=\"text-align: right;\">           0</td><td style=\"text-align: right;\">            0</td><td style=\"text-align: right;\">              0</td><td style=\"text-align: right;\">                 0</td><td style=\"text-align: right;\">                0</td><td style=\"text-align: right;\">                0</td><td style=\"text-align: right;\">                 0</td><td style=\"text-align: right;\">                      0</td><td style=\"text-align: right;\">                     0</td><td style=\"text-align: right;\">                  0</td><td style=\"text-align: right;\">                   0</td><td style=\"text-align: right;\">                     0</td><td style=\"text-align: right;\">                          0</td><td style=\"text-align: right;\">                         0</td><td style=\"text-align: right;\">                      0</td><td style=\"text-align: right;\">                       0</td><td style=\"text-align: right;\">              0</td><td style=\"text-align: right;\">             0</td><td style=\"text-align: right;\">            0</td><td style=\"text-align: right;\">                   0</td><td style=\"text-align: right;\">                  0</td><td style=\"text-align: right;\">                 0</td><td style=\"text-align: right;\">                  0</td><td style=\"text-align: right;\">                 0</td><td style=\"text-align: right;\">                0</td><td style=\"text-align: right;\">               0</td><td style=\"text-align: right;\">              0</td><td style=\"text-align: right;\">             0</td><td style=\"text-align: right;\">                0</td><td style=\"text-align: right;\">               0</td><td style=\"text-align: right;\">              0</td><td style=\"text-align: right;\">           0</td><td style=\"text-align: right;\">                      0</td></tr>\n",
       "</tbody>\n",
       "</table><pre style='font-size: smaller; margin-bottom: 1em;'>[1 row x 38 columns]</pre>"
      ],
      "text/plain": [
       "  isNA(Gender)    isNA(DrivAge)    isNA(VehYear)    isNA(VehModel)    isNA(VehGroup)    isNA(Area)    isNA(State)    isNA(StateAb)    isNA(ExposTotal)    isNA(PremTotal)    isNA(SumInsAvg)    isNA(ClaimNbRob)    isNA(ClaimNbPartColl)    isNA(ClaimNbTotColl)    isNA(ClaimNbFire)    isNA(ClaimNbOther)    isNA(ClaimAmountRob)    isNA(ClaimAmountPartColl)    isNA(ClaimAmountTotColl)    isNA(ClaimAmountFire)    isNA(ClaimAmountOther)    isNA(FreqRob)    isNA(SevRob)    isNA(PPRob)    isNA(FreqPartColl)    isNA(SevPartColl)    isNA(PPPartColl)    isNA(FreqTotColl)    isNA(SevTotColl)    isNA(PPTotColl)    isNA(FreqFire)    isNA(SevFire)    isNA(PPFire)    isNA(FreqOther)    isNA(SevOther)    isNA(PPOther)    isNA(Fold)    isNA(log(ExposTotal))\n",
       "--------------  ---------------  ---------------  ----------------  ----------------  ------------  -------------  ---------------  ------------------  -----------------  -----------------  ------------------  -----------------------  ----------------------  -------------------  --------------------  ----------------------  ---------------------------  --------------------------  -----------------------  ------------------------  ---------------  --------------  -------------  --------------------  -------------------  ------------------  -------------------  ------------------  -----------------  ----------------  ---------------  --------------  -----------------  ----------------  ---------------  ------------  -----------------------\n",
       "             0                0                0                 0                 0             0              0                0                   0                  0                  0                   0                        0                       0                    0                     0                       0                            0                           0                        0                         0                0               0              0                     0                    0                   0                    0                   0                  0                 0                0               0                  0                 0                0             0                        0\n",
       "[1 row x 38 columns]\n"
      ]
     },
     "execution_count": 31,
     "metadata": {},
     "output_type": "execute_result"
    }
   ],
   "source": [
    "df_check.isna().sum(return_frame=True)"
   ]
  },
  {
   "cell_type": "code",
   "execution_count": 32,
   "metadata": {},
   "outputs": [
    {
     "data": {
      "text/plain": [
       "0.0"
      ]
     },
     "execution_count": 32,
     "metadata": {},
     "output_type": "execute_result"
    }
   ],
   "source": [
    "df_check.isna().sum()"
   ]
  },
  {
   "cell_type": "code",
   "execution_count": null,
   "metadata": {},
   "outputs": [],
   "source": []
  },
  {
   "cell_type": "code",
   "execution_count": null,
   "metadata": {},
   "outputs": [],
   "source": []
  },
  {
   "cell_type": "code",
   "execution_count": null,
   "metadata": {},
   "outputs": [],
   "source": []
  },
  {
   "cell_type": "code",
   "execution_count": null,
   "metadata": {},
   "outputs": [],
   "source": []
  },
  {
   "cell_type": "code",
   "execution_count": null,
   "metadata": {},
   "outputs": [],
   "source": []
  },
  {
   "cell_type": "code",
   "execution_count": null,
   "metadata": {},
   "outputs": [],
   "source": []
  }
 ],
 "metadata": {
  "kernelspec": {
   "display_name": "brvehins_separate_env",
   "language": "python",
   "name": "python3"
  },
  "language_info": {
   "codemirror_mode": {
    "name": "ipython",
    "version": 3
   },
   "file_extension": ".py",
   "mimetype": "text/x-python",
   "name": "python",
   "nbconvert_exporter": "python",
   "pygments_lexer": "ipython3",
   "version": "3.13.1"
  }
 },
 "nbformat": 4,
 "nbformat_minor": 2
}
